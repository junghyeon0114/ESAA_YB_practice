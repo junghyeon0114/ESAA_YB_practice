{
  "nbformat": 4,
  "nbformat_minor": 0,
  "metadata": {
    "colab": {
      "provenance": [],
      "authorship_tag": "ABX9TyMx6ClUvrcSTjLJdmufmLUt",
      "include_colab_link": true
    },
    "kernelspec": {
      "name": "python3",
      "display_name": "Python 3"
    },
    "language_info": {
      "name": "python"
    }
  },
  "cells": [
    {
      "cell_type": "markdown",
      "metadata": {
        "id": "view-in-github",
        "colab_type": "text"
      },
      "source": [
        "<a href=\"https://colab.research.google.com/github/junghyeon0114/ESAA_YB_practice/blob/main/Untitled0.ipynb\" target=\"_parent\"><img src=\"https://colab.research.google.com/assets/colab-badge.svg\" alt=\"Open In Colab\"/></a>"
      ]
    },
    {
      "cell_type": "code",
      "execution_count": 1,
      "metadata": {
        "id": "Su_z7DyEzx0A"
      },
      "outputs": [],
      "source": [
        "%matplotlib notebook\n",
        "import matplotlib.pyplot as plt"
      ]
    },
    {
      "cell_type": "code",
      "source": [
        "\n",
        "import seaborn as sns\n",
        "\n",
        "anscombe = sns.load_dataset(\"anscombe\")\n",
        "print(anscombe)\n",
        "print(type(anscombe))"
      ],
      "metadata": {
        "id": "8I4Cb_66z9QM"
      },
      "execution_count": null,
      "outputs": []
    },
    {
      "cell_type": "code",
      "source": [
        "dataset_1 = anscombe[anscombe['dataset']=='I']\n",
        "plt.plot(dataset_1['x'], dataset_1['y'])\n"
      ],
      "metadata": {
        "colab": {
          "base_uri": "https://localhost:8080/",
          "height": 35
        },
        "id": "vLucahwUz0w_",
        "outputId": "ae647557-978d-4bba-b79c-3f472d0f9beb"
      },
      "execution_count": 9,
      "outputs": [
        {
          "output_type": "execute_result",
          "data": {
            "text/plain": [
              "[<matplotlib.lines.Line2D at 0x7e02bf863d90>]"
            ]
          },
          "metadata": {},
          "execution_count": 9
        }
      ]
    },
    {
      "cell_type": "code",
      "source": [
        "plt.show()"
      ],
      "metadata": {
        "id": "WwrEte5q11Ac"
      },
      "execution_count": 10,
      "outputs": []
    }
  ]
}