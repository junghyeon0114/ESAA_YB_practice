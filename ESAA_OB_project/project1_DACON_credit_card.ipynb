{
  "cells": [
    {
      "cell_type": "markdown",
      "metadata": {
        "id": "view-in-github",
        "colab_type": "text"
      },
      "source": [
        "<a href=\"https://colab.research.google.com/github/JiSu0708/ESAA-OB/blob/main/project1_DACON_credit_card.ipynb\" target=\"_parent\"><img src=\"https://colab.research.google.com/assets/colab-badge.svg\" alt=\"Open In Colab\"/></a>"
      ]
    },
    {
      "cell_type": "code",
      "execution_count": 4,
      "id": "4e264096",
      "metadata": {
        "id": "4e264096"
      },
      "outputs": [],
      "source": [
        "import numpy as np\n",
        "import pandas as pd\n",
        "import seaborn as sns\n",
        "import matplotlib.pyplot as plt"
      ]
    },
    {
      "cell_type": "markdown",
      "id": "22a3306f",
      "metadata": {
        "id": "22a3306f"
      },
      "source": [
        "# 1. Data import\n",
        "## 1) Data Information"
      ]
    },
    {
      "cell_type": "code",
      "execution_count": 5,
      "id": "b7d54e85",
      "metadata": {
        "id": "b7d54e85"
      },
      "outputs": [],
      "source": [
        "train = pd.read_csv(\"train.csv\")"
      ]
    },
    {
      "cell_type": "code",
      "execution_count": 6,
      "id": "cb0f0913",
      "metadata": {
        "colab": {
          "base_uri": "https://localhost:8080/",
          "height": 382
        },
        "id": "cb0f0913",
        "outputId": "51762082-9f74-4768-da97-07c57ff4c8ea"
      },
      "outputs": [
        {
          "output_type": "execute_result",
          "data": {
            "text/plain": [
              "   index gender car reality  child_num  income_total           income_type  \\\n",
              "0      0      F   N       N          0      202500.0  Commercial associate   \n",
              "1      1      F   N       Y          1      247500.0  Commercial associate   \n",
              "2      2      M   Y       Y          0      450000.0               Working   \n",
              "3      3      F   N       Y          0      202500.0  Commercial associate   \n",
              "4      4      F   Y       Y          0      157500.0         State servant   \n",
              "\n",
              "                        edu_type     family_type           house_type  \\\n",
              "0               Higher education         Married  Municipal apartment   \n",
              "1  Secondary / secondary special  Civil marriage    House / apartment   \n",
              "2               Higher education         Married    House / apartment   \n",
              "3  Secondary / secondary special         Married    House / apartment   \n",
              "4               Higher education         Married    House / apartment   \n",
              "\n",
              "   DAYS_BIRTH  DAYS_EMPLOYED  FLAG_MOBIL  work_phone  phone  email  \\\n",
              "0      -13899          -4709           1           0      0      0   \n",
              "1      -11380          -1540           1           0      0      1   \n",
              "2      -19087          -4434           1           0      1      0   \n",
              "3      -15088          -2092           1           0      1      0   \n",
              "4      -15037          -2105           1           0      0      0   \n",
              "\n",
              "    occyp_type  family_size  begin_month  credit  \n",
              "0          NaN          2.0         -6.0     1.0  \n",
              "1     Laborers          3.0         -5.0     1.0  \n",
              "2     Managers          2.0        -22.0     2.0  \n",
              "3  Sales staff          2.0        -37.0     0.0  \n",
              "4     Managers          2.0        -26.0     2.0  "
            ],
            "text/html": [
              "\n",
              "  <div id=\"df-2e8a7d58-a25e-4213-b2bf-103e9e7d1766\" class=\"colab-df-container\">\n",
              "    <div>\n",
              "<style scoped>\n",
              "    .dataframe tbody tr th:only-of-type {\n",
              "        vertical-align: middle;\n",
              "    }\n",
              "\n",
              "    .dataframe tbody tr th {\n",
              "        vertical-align: top;\n",
              "    }\n",
              "\n",
              "    .dataframe thead th {\n",
              "        text-align: right;\n",
              "    }\n",
              "</style>\n",
              "<table border=\"1\" class=\"dataframe\">\n",
              "  <thead>\n",
              "    <tr style=\"text-align: right;\">\n",
              "      <th></th>\n",
              "      <th>index</th>\n",
              "      <th>gender</th>\n",
              "      <th>car</th>\n",
              "      <th>reality</th>\n",
              "      <th>child_num</th>\n",
              "      <th>income_total</th>\n",
              "      <th>income_type</th>\n",
              "      <th>edu_type</th>\n",
              "      <th>family_type</th>\n",
              "      <th>house_type</th>\n",
              "      <th>DAYS_BIRTH</th>\n",
              "      <th>DAYS_EMPLOYED</th>\n",
              "      <th>FLAG_MOBIL</th>\n",
              "      <th>work_phone</th>\n",
              "      <th>phone</th>\n",
              "      <th>email</th>\n",
              "      <th>occyp_type</th>\n",
              "      <th>family_size</th>\n",
              "      <th>begin_month</th>\n",
              "      <th>credit</th>\n",
              "    </tr>\n",
              "  </thead>\n",
              "  <tbody>\n",
              "    <tr>\n",
              "      <th>0</th>\n",
              "      <td>0</td>\n",
              "      <td>F</td>\n",
              "      <td>N</td>\n",
              "      <td>N</td>\n",
              "      <td>0</td>\n",
              "      <td>202500.0</td>\n",
              "      <td>Commercial associate</td>\n",
              "      <td>Higher education</td>\n",
              "      <td>Married</td>\n",
              "      <td>Municipal apartment</td>\n",
              "      <td>-13899</td>\n",
              "      <td>-4709</td>\n",
              "      <td>1</td>\n",
              "      <td>0</td>\n",
              "      <td>0</td>\n",
              "      <td>0</td>\n",
              "      <td>NaN</td>\n",
              "      <td>2.0</td>\n",
              "      <td>-6.0</td>\n",
              "      <td>1.0</td>\n",
              "    </tr>\n",
              "    <tr>\n",
              "      <th>1</th>\n",
              "      <td>1</td>\n",
              "      <td>F</td>\n",
              "      <td>N</td>\n",
              "      <td>Y</td>\n",
              "      <td>1</td>\n",
              "      <td>247500.0</td>\n",
              "      <td>Commercial associate</td>\n",
              "      <td>Secondary / secondary special</td>\n",
              "      <td>Civil marriage</td>\n",
              "      <td>House / apartment</td>\n",
              "      <td>-11380</td>\n",
              "      <td>-1540</td>\n",
              "      <td>1</td>\n",
              "      <td>0</td>\n",
              "      <td>0</td>\n",
              "      <td>1</td>\n",
              "      <td>Laborers</td>\n",
              "      <td>3.0</td>\n",
              "      <td>-5.0</td>\n",
              "      <td>1.0</td>\n",
              "    </tr>\n",
              "    <tr>\n",
              "      <th>2</th>\n",
              "      <td>2</td>\n",
              "      <td>M</td>\n",
              "      <td>Y</td>\n",
              "      <td>Y</td>\n",
              "      <td>0</td>\n",
              "      <td>450000.0</td>\n",
              "      <td>Working</td>\n",
              "      <td>Higher education</td>\n",
              "      <td>Married</td>\n",
              "      <td>House / apartment</td>\n",
              "      <td>-19087</td>\n",
              "      <td>-4434</td>\n",
              "      <td>1</td>\n",
              "      <td>0</td>\n",
              "      <td>1</td>\n",
              "      <td>0</td>\n",
              "      <td>Managers</td>\n",
              "      <td>2.0</td>\n",
              "      <td>-22.0</td>\n",
              "      <td>2.0</td>\n",
              "    </tr>\n",
              "    <tr>\n",
              "      <th>3</th>\n",
              "      <td>3</td>\n",
              "      <td>F</td>\n",
              "      <td>N</td>\n",
              "      <td>Y</td>\n",
              "      <td>0</td>\n",
              "      <td>202500.0</td>\n",
              "      <td>Commercial associate</td>\n",
              "      <td>Secondary / secondary special</td>\n",
              "      <td>Married</td>\n",
              "      <td>House / apartment</td>\n",
              "      <td>-15088</td>\n",
              "      <td>-2092</td>\n",
              "      <td>1</td>\n",
              "      <td>0</td>\n",
              "      <td>1</td>\n",
              "      <td>0</td>\n",
              "      <td>Sales staff</td>\n",
              "      <td>2.0</td>\n",
              "      <td>-37.0</td>\n",
              "      <td>0.0</td>\n",
              "    </tr>\n",
              "    <tr>\n",
              "      <th>4</th>\n",
              "      <td>4</td>\n",
              "      <td>F</td>\n",
              "      <td>Y</td>\n",
              "      <td>Y</td>\n",
              "      <td>0</td>\n",
              "      <td>157500.0</td>\n",
              "      <td>State servant</td>\n",
              "      <td>Higher education</td>\n",
              "      <td>Married</td>\n",
              "      <td>House / apartment</td>\n",
              "      <td>-15037</td>\n",
              "      <td>-2105</td>\n",
              "      <td>1</td>\n",
              "      <td>0</td>\n",
              "      <td>0</td>\n",
              "      <td>0</td>\n",
              "      <td>Managers</td>\n",
              "      <td>2.0</td>\n",
              "      <td>-26.0</td>\n",
              "      <td>2.0</td>\n",
              "    </tr>\n",
              "  </tbody>\n",
              "</table>\n",
              "</div>\n",
              "    <div class=\"colab-df-buttons\">\n",
              "\n",
              "  <div class=\"colab-df-container\">\n",
              "    <button class=\"colab-df-convert\" onclick=\"convertToInteractive('df-2e8a7d58-a25e-4213-b2bf-103e9e7d1766')\"\n",
              "            title=\"Convert this dataframe to an interactive table.\"\n",
              "            style=\"display:none;\">\n",
              "\n",
              "  <svg xmlns=\"http://www.w3.org/2000/svg\" height=\"24px\" viewBox=\"0 -960 960 960\">\n",
              "    <path d=\"M120-120v-720h720v720H120Zm60-500h600v-160H180v160Zm220 220h160v-160H400v160Zm0 220h160v-160H400v160ZM180-400h160v-160H180v160Zm440 0h160v-160H620v160ZM180-180h160v-160H180v160Zm440 0h160v-160H620v160Z\"/>\n",
              "  </svg>\n",
              "    </button>\n",
              "\n",
              "  <style>\n",
              "    .colab-df-container {\n",
              "      display:flex;\n",
              "      gap: 12px;\n",
              "    }\n",
              "\n",
              "    .colab-df-convert {\n",
              "      background-color: #E8F0FE;\n",
              "      border: none;\n",
              "      border-radius: 50%;\n",
              "      cursor: pointer;\n",
              "      display: none;\n",
              "      fill: #1967D2;\n",
              "      height: 32px;\n",
              "      padding: 0 0 0 0;\n",
              "      width: 32px;\n",
              "    }\n",
              "\n",
              "    .colab-df-convert:hover {\n",
              "      background-color: #E2EBFA;\n",
              "      box-shadow: 0px 1px 2px rgba(60, 64, 67, 0.3), 0px 1px 3px 1px rgba(60, 64, 67, 0.15);\n",
              "      fill: #174EA6;\n",
              "    }\n",
              "\n",
              "    .colab-df-buttons div {\n",
              "      margin-bottom: 4px;\n",
              "    }\n",
              "\n",
              "    [theme=dark] .colab-df-convert {\n",
              "      background-color: #3B4455;\n",
              "      fill: #D2E3FC;\n",
              "    }\n",
              "\n",
              "    [theme=dark] .colab-df-convert:hover {\n",
              "      background-color: #434B5C;\n",
              "      box-shadow: 0px 1px 3px 1px rgba(0, 0, 0, 0.15);\n",
              "      filter: drop-shadow(0px 1px 2px rgba(0, 0, 0, 0.3));\n",
              "      fill: #FFFFFF;\n",
              "    }\n",
              "  </style>\n",
              "\n",
              "    <script>\n",
              "      const buttonEl =\n",
              "        document.querySelector('#df-2e8a7d58-a25e-4213-b2bf-103e9e7d1766 button.colab-df-convert');\n",
              "      buttonEl.style.display =\n",
              "        google.colab.kernel.accessAllowed ? 'block' : 'none';\n",
              "\n",
              "      async function convertToInteractive(key) {\n",
              "        const element = document.querySelector('#df-2e8a7d58-a25e-4213-b2bf-103e9e7d1766');\n",
              "        const dataTable =\n",
              "          await google.colab.kernel.invokeFunction('convertToInteractive',\n",
              "                                                    [key], {});\n",
              "        if (!dataTable) return;\n",
              "\n",
              "        const docLinkHtml = 'Like what you see? Visit the ' +\n",
              "          '<a target=\"_blank\" href=https://colab.research.google.com/notebooks/data_table.ipynb>data table notebook</a>'\n",
              "          + ' to learn more about interactive tables.';\n",
              "        element.innerHTML = '';\n",
              "        dataTable['output_type'] = 'display_data';\n",
              "        await google.colab.output.renderOutput(dataTable, element);\n",
              "        const docLink = document.createElement('div');\n",
              "        docLink.innerHTML = docLinkHtml;\n",
              "        element.appendChild(docLink);\n",
              "      }\n",
              "    </script>\n",
              "  </div>\n",
              "\n",
              "\n",
              "<div id=\"df-f4a98de6-1332-4e8c-a994-a5b7e9b42f5a\">\n",
              "  <button class=\"colab-df-quickchart\" onclick=\"quickchart('df-f4a98de6-1332-4e8c-a994-a5b7e9b42f5a')\"\n",
              "            title=\"Suggest charts.\"\n",
              "            style=\"display:none;\">\n",
              "\n",
              "<svg xmlns=\"http://www.w3.org/2000/svg\" height=\"24px\"viewBox=\"0 0 24 24\"\n",
              "     width=\"24px\">\n",
              "    <g>\n",
              "        <path d=\"M19 3H5c-1.1 0-2 .9-2 2v14c0 1.1.9 2 2 2h14c1.1 0 2-.9 2-2V5c0-1.1-.9-2-2-2zM9 17H7v-7h2v7zm4 0h-2V7h2v10zm4 0h-2v-4h2v4z\"/>\n",
              "    </g>\n",
              "</svg>\n",
              "  </button>\n",
              "\n",
              "<style>\n",
              "  .colab-df-quickchart {\n",
              "      --bg-color: #E8F0FE;\n",
              "      --fill-color: #1967D2;\n",
              "      --hover-bg-color: #E2EBFA;\n",
              "      --hover-fill-color: #174EA6;\n",
              "      --disabled-fill-color: #AAA;\n",
              "      --disabled-bg-color: #DDD;\n",
              "  }\n",
              "\n",
              "  [theme=dark] .colab-df-quickchart {\n",
              "      --bg-color: #3B4455;\n",
              "      --fill-color: #D2E3FC;\n",
              "      --hover-bg-color: #434B5C;\n",
              "      --hover-fill-color: #FFFFFF;\n",
              "      --disabled-bg-color: #3B4455;\n",
              "      --disabled-fill-color: #666;\n",
              "  }\n",
              "\n",
              "  .colab-df-quickchart {\n",
              "    background-color: var(--bg-color);\n",
              "    border: none;\n",
              "    border-radius: 50%;\n",
              "    cursor: pointer;\n",
              "    display: none;\n",
              "    fill: var(--fill-color);\n",
              "    height: 32px;\n",
              "    padding: 0;\n",
              "    width: 32px;\n",
              "  }\n",
              "\n",
              "  .colab-df-quickchart:hover {\n",
              "    background-color: var(--hover-bg-color);\n",
              "    box-shadow: 0 1px 2px rgba(60, 64, 67, 0.3), 0 1px 3px 1px rgba(60, 64, 67, 0.15);\n",
              "    fill: var(--button-hover-fill-color);\n",
              "  }\n",
              "\n",
              "  .colab-df-quickchart-complete:disabled,\n",
              "  .colab-df-quickchart-complete:disabled:hover {\n",
              "    background-color: var(--disabled-bg-color);\n",
              "    fill: var(--disabled-fill-color);\n",
              "    box-shadow: none;\n",
              "  }\n",
              "\n",
              "  .colab-df-spinner {\n",
              "    border: 2px solid var(--fill-color);\n",
              "    border-color: transparent;\n",
              "    border-bottom-color: var(--fill-color);\n",
              "    animation:\n",
              "      spin 1s steps(1) infinite;\n",
              "  }\n",
              "\n",
              "  @keyframes spin {\n",
              "    0% {\n",
              "      border-color: transparent;\n",
              "      border-bottom-color: var(--fill-color);\n",
              "      border-left-color: var(--fill-color);\n",
              "    }\n",
              "    20% {\n",
              "      border-color: transparent;\n",
              "      border-left-color: var(--fill-color);\n",
              "      border-top-color: var(--fill-color);\n",
              "    }\n",
              "    30% {\n",
              "      border-color: transparent;\n",
              "      border-left-color: var(--fill-color);\n",
              "      border-top-color: var(--fill-color);\n",
              "      border-right-color: var(--fill-color);\n",
              "    }\n",
              "    40% {\n",
              "      border-color: transparent;\n",
              "      border-right-color: var(--fill-color);\n",
              "      border-top-color: var(--fill-color);\n",
              "    }\n",
              "    60% {\n",
              "      border-color: transparent;\n",
              "      border-right-color: var(--fill-color);\n",
              "    }\n",
              "    80% {\n",
              "      border-color: transparent;\n",
              "      border-right-color: var(--fill-color);\n",
              "      border-bottom-color: var(--fill-color);\n",
              "    }\n",
              "    90% {\n",
              "      border-color: transparent;\n",
              "      border-bottom-color: var(--fill-color);\n",
              "    }\n",
              "  }\n",
              "</style>\n",
              "\n",
              "  <script>\n",
              "    async function quickchart(key) {\n",
              "      const quickchartButtonEl =\n",
              "        document.querySelector('#' + key + ' button');\n",
              "      quickchartButtonEl.disabled = true;  // To prevent multiple clicks.\n",
              "      quickchartButtonEl.classList.add('colab-df-spinner');\n",
              "      try {\n",
              "        const charts = await google.colab.kernel.invokeFunction(\n",
              "            'suggestCharts', [key], {});\n",
              "      } catch (error) {\n",
              "        console.error('Error during call to suggestCharts:', error);\n",
              "      }\n",
              "      quickchartButtonEl.classList.remove('colab-df-spinner');\n",
              "      quickchartButtonEl.classList.add('colab-df-quickchart-complete');\n",
              "    }\n",
              "    (() => {\n",
              "      let quickchartButtonEl =\n",
              "        document.querySelector('#df-f4a98de6-1332-4e8c-a994-a5b7e9b42f5a button');\n",
              "      quickchartButtonEl.style.display =\n",
              "        google.colab.kernel.accessAllowed ? 'block' : 'none';\n",
              "    })();\n",
              "  </script>\n",
              "</div>\n",
              "    </div>\n",
              "  </div>\n"
            ]
          },
          "metadata": {},
          "execution_count": 6
        }
      ],
      "source": [
        "train.head()"
      ]
    },
    {
      "cell_type": "code",
      "execution_count": 7,
      "id": "79b00b19",
      "metadata": {
        "colab": {
          "base_uri": "https://localhost:8080/",
          "height": 417
        },
        "id": "79b00b19",
        "outputId": "61d21e7c-8cc8-41eb-ce06-700aa304926e"
      },
      "outputs": [
        {
          "output_type": "execute_result",
          "data": {
            "text/plain": [
              "       index gender car reality  child_num  income_total    income_type  \\\n",
              "26452  26452      F   N       N          2      225000.0  State servant   \n",
              "26453  26453      F   N       Y          1      180000.0        Working   \n",
              "26454  26454      F   Y       N          0      292500.0        Working   \n",
              "26455  26455      M   N       Y          0      171000.0        Working   \n",
              "26456  26456      F   N       N          0       81000.0        Working   \n",
              "\n",
              "                            edu_type           family_type         house_type  \\\n",
              "26452  Secondary / secondary special               Married  House / apartment   \n",
              "26453               Higher education             Separated  House / apartment   \n",
              "26454  Secondary / secondary special        Civil marriage       With parents   \n",
              "26455              Incomplete higher  Single / not married  House / apartment   \n",
              "26456  Secondary / secondary special        Civil marriage  House / apartment   \n",
              "\n",
              "       DAYS_BIRTH  DAYS_EMPLOYED  FLAG_MOBIL  work_phone  phone  email  \\\n",
              "26452      -12079          -1984           1           0      0      0   \n",
              "26453      -15291          -2475           1           0      0      0   \n",
              "26454      -10082          -2015           1           0      0      0   \n",
              "26455      -10145           -107           1           0      0      0   \n",
              "26456      -19569          -1013           1           0      0      0   \n",
              "\n",
              "           occyp_type  family_size  begin_month  credit  \n",
              "26452      Core staff          4.0         -2.0     1.0  \n",
              "26453             NaN          2.0        -47.0     2.0  \n",
              "26454      Core staff          2.0        -25.0     2.0  \n",
              "26455        Laborers          1.0        -59.0     2.0  \n",
              "26456  Security staff          2.0         -9.0     2.0  "
            ],
            "text/html": [
              "\n",
              "  <div id=\"df-7673e13c-ef20-42e4-a0cb-6882189cedeb\" class=\"colab-df-container\">\n",
              "    <div>\n",
              "<style scoped>\n",
              "    .dataframe tbody tr th:only-of-type {\n",
              "        vertical-align: middle;\n",
              "    }\n",
              "\n",
              "    .dataframe tbody tr th {\n",
              "        vertical-align: top;\n",
              "    }\n",
              "\n",
              "    .dataframe thead th {\n",
              "        text-align: right;\n",
              "    }\n",
              "</style>\n",
              "<table border=\"1\" class=\"dataframe\">\n",
              "  <thead>\n",
              "    <tr style=\"text-align: right;\">\n",
              "      <th></th>\n",
              "      <th>index</th>\n",
              "      <th>gender</th>\n",
              "      <th>car</th>\n",
              "      <th>reality</th>\n",
              "      <th>child_num</th>\n",
              "      <th>income_total</th>\n",
              "      <th>income_type</th>\n",
              "      <th>edu_type</th>\n",
              "      <th>family_type</th>\n",
              "      <th>house_type</th>\n",
              "      <th>DAYS_BIRTH</th>\n",
              "      <th>DAYS_EMPLOYED</th>\n",
              "      <th>FLAG_MOBIL</th>\n",
              "      <th>work_phone</th>\n",
              "      <th>phone</th>\n",
              "      <th>email</th>\n",
              "      <th>occyp_type</th>\n",
              "      <th>family_size</th>\n",
              "      <th>begin_month</th>\n",
              "      <th>credit</th>\n",
              "    </tr>\n",
              "  </thead>\n",
              "  <tbody>\n",
              "    <tr>\n",
              "      <th>26452</th>\n",
              "      <td>26452</td>\n",
              "      <td>F</td>\n",
              "      <td>N</td>\n",
              "      <td>N</td>\n",
              "      <td>2</td>\n",
              "      <td>225000.0</td>\n",
              "      <td>State servant</td>\n",
              "      <td>Secondary / secondary special</td>\n",
              "      <td>Married</td>\n",
              "      <td>House / apartment</td>\n",
              "      <td>-12079</td>\n",
              "      <td>-1984</td>\n",
              "      <td>1</td>\n",
              "      <td>0</td>\n",
              "      <td>0</td>\n",
              "      <td>0</td>\n",
              "      <td>Core staff</td>\n",
              "      <td>4.0</td>\n",
              "      <td>-2.0</td>\n",
              "      <td>1.0</td>\n",
              "    </tr>\n",
              "    <tr>\n",
              "      <th>26453</th>\n",
              "      <td>26453</td>\n",
              "      <td>F</td>\n",
              "      <td>N</td>\n",
              "      <td>Y</td>\n",
              "      <td>1</td>\n",
              "      <td>180000.0</td>\n",
              "      <td>Working</td>\n",
              "      <td>Higher education</td>\n",
              "      <td>Separated</td>\n",
              "      <td>House / apartment</td>\n",
              "      <td>-15291</td>\n",
              "      <td>-2475</td>\n",
              "      <td>1</td>\n",
              "      <td>0</td>\n",
              "      <td>0</td>\n",
              "      <td>0</td>\n",
              "      <td>NaN</td>\n",
              "      <td>2.0</td>\n",
              "      <td>-47.0</td>\n",
              "      <td>2.0</td>\n",
              "    </tr>\n",
              "    <tr>\n",
              "      <th>26454</th>\n",
              "      <td>26454</td>\n",
              "      <td>F</td>\n",
              "      <td>Y</td>\n",
              "      <td>N</td>\n",
              "      <td>0</td>\n",
              "      <td>292500.0</td>\n",
              "      <td>Working</td>\n",
              "      <td>Secondary / secondary special</td>\n",
              "      <td>Civil marriage</td>\n",
              "      <td>With parents</td>\n",
              "      <td>-10082</td>\n",
              "      <td>-2015</td>\n",
              "      <td>1</td>\n",
              "      <td>0</td>\n",
              "      <td>0</td>\n",
              "      <td>0</td>\n",
              "      <td>Core staff</td>\n",
              "      <td>2.0</td>\n",
              "      <td>-25.0</td>\n",
              "      <td>2.0</td>\n",
              "    </tr>\n",
              "    <tr>\n",
              "      <th>26455</th>\n",
              "      <td>26455</td>\n",
              "      <td>M</td>\n",
              "      <td>N</td>\n",
              "      <td>Y</td>\n",
              "      <td>0</td>\n",
              "      <td>171000.0</td>\n",
              "      <td>Working</td>\n",
              "      <td>Incomplete higher</td>\n",
              "      <td>Single / not married</td>\n",
              "      <td>House / apartment</td>\n",
              "      <td>-10145</td>\n",
              "      <td>-107</td>\n",
              "      <td>1</td>\n",
              "      <td>0</td>\n",
              "      <td>0</td>\n",
              "      <td>0</td>\n",
              "      <td>Laborers</td>\n",
              "      <td>1.0</td>\n",
              "      <td>-59.0</td>\n",
              "      <td>2.0</td>\n",
              "    </tr>\n",
              "    <tr>\n",
              "      <th>26456</th>\n",
              "      <td>26456</td>\n",
              "      <td>F</td>\n",
              "      <td>N</td>\n",
              "      <td>N</td>\n",
              "      <td>0</td>\n",
              "      <td>81000.0</td>\n",
              "      <td>Working</td>\n",
              "      <td>Secondary / secondary special</td>\n",
              "      <td>Civil marriage</td>\n",
              "      <td>House / apartment</td>\n",
              "      <td>-19569</td>\n",
              "      <td>-1013</td>\n",
              "      <td>1</td>\n",
              "      <td>0</td>\n",
              "      <td>0</td>\n",
              "      <td>0</td>\n",
              "      <td>Security staff</td>\n",
              "      <td>2.0</td>\n",
              "      <td>-9.0</td>\n",
              "      <td>2.0</td>\n",
              "    </tr>\n",
              "  </tbody>\n",
              "</table>\n",
              "</div>\n",
              "    <div class=\"colab-df-buttons\">\n",
              "\n",
              "  <div class=\"colab-df-container\">\n",
              "    <button class=\"colab-df-convert\" onclick=\"convertToInteractive('df-7673e13c-ef20-42e4-a0cb-6882189cedeb')\"\n",
              "            title=\"Convert this dataframe to an interactive table.\"\n",
              "            style=\"display:none;\">\n",
              "\n",
              "  <svg xmlns=\"http://www.w3.org/2000/svg\" height=\"24px\" viewBox=\"0 -960 960 960\">\n",
              "    <path d=\"M120-120v-720h720v720H120Zm60-500h600v-160H180v160Zm220 220h160v-160H400v160Zm0 220h160v-160H400v160ZM180-400h160v-160H180v160Zm440 0h160v-160H620v160ZM180-180h160v-160H180v160Zm440 0h160v-160H620v160Z\"/>\n",
              "  </svg>\n",
              "    </button>\n",
              "\n",
              "  <style>\n",
              "    .colab-df-container {\n",
              "      display:flex;\n",
              "      gap: 12px;\n",
              "    }\n",
              "\n",
              "    .colab-df-convert {\n",
              "      background-color: #E8F0FE;\n",
              "      border: none;\n",
              "      border-radius: 50%;\n",
              "      cursor: pointer;\n",
              "      display: none;\n",
              "      fill: #1967D2;\n",
              "      height: 32px;\n",
              "      padding: 0 0 0 0;\n",
              "      width: 32px;\n",
              "    }\n",
              "\n",
              "    .colab-df-convert:hover {\n",
              "      background-color: #E2EBFA;\n",
              "      box-shadow: 0px 1px 2px rgba(60, 64, 67, 0.3), 0px 1px 3px 1px rgba(60, 64, 67, 0.15);\n",
              "      fill: #174EA6;\n",
              "    }\n",
              "\n",
              "    .colab-df-buttons div {\n",
              "      margin-bottom: 4px;\n",
              "    }\n",
              "\n",
              "    [theme=dark] .colab-df-convert {\n",
              "      background-color: #3B4455;\n",
              "      fill: #D2E3FC;\n",
              "    }\n",
              "\n",
              "    [theme=dark] .colab-df-convert:hover {\n",
              "      background-color: #434B5C;\n",
              "      box-shadow: 0px 1px 3px 1px rgba(0, 0, 0, 0.15);\n",
              "      filter: drop-shadow(0px 1px 2px rgba(0, 0, 0, 0.3));\n",
              "      fill: #FFFFFF;\n",
              "    }\n",
              "  </style>\n",
              "\n",
              "    <script>\n",
              "      const buttonEl =\n",
              "        document.querySelector('#df-7673e13c-ef20-42e4-a0cb-6882189cedeb button.colab-df-convert');\n",
              "      buttonEl.style.display =\n",
              "        google.colab.kernel.accessAllowed ? 'block' : 'none';\n",
              "\n",
              "      async function convertToInteractive(key) {\n",
              "        const element = document.querySelector('#df-7673e13c-ef20-42e4-a0cb-6882189cedeb');\n",
              "        const dataTable =\n",
              "          await google.colab.kernel.invokeFunction('convertToInteractive',\n",
              "                                                    [key], {});\n",
              "        if (!dataTable) return;\n",
              "\n",
              "        const docLinkHtml = 'Like what you see? Visit the ' +\n",
              "          '<a target=\"_blank\" href=https://colab.research.google.com/notebooks/data_table.ipynb>data table notebook</a>'\n",
              "          + ' to learn more about interactive tables.';\n",
              "        element.innerHTML = '';\n",
              "        dataTable['output_type'] = 'display_data';\n",
              "        await google.colab.output.renderOutput(dataTable, element);\n",
              "        const docLink = document.createElement('div');\n",
              "        docLink.innerHTML = docLinkHtml;\n",
              "        element.appendChild(docLink);\n",
              "      }\n",
              "    </script>\n",
              "  </div>\n",
              "\n",
              "\n",
              "<div id=\"df-11e94ed8-1beb-4752-9c65-c480aae893cf\">\n",
              "  <button class=\"colab-df-quickchart\" onclick=\"quickchart('df-11e94ed8-1beb-4752-9c65-c480aae893cf')\"\n",
              "            title=\"Suggest charts.\"\n",
              "            style=\"display:none;\">\n",
              "\n",
              "<svg xmlns=\"http://www.w3.org/2000/svg\" height=\"24px\"viewBox=\"0 0 24 24\"\n",
              "     width=\"24px\">\n",
              "    <g>\n",
              "        <path d=\"M19 3H5c-1.1 0-2 .9-2 2v14c0 1.1.9 2 2 2h14c1.1 0 2-.9 2-2V5c0-1.1-.9-2-2-2zM9 17H7v-7h2v7zm4 0h-2V7h2v10zm4 0h-2v-4h2v4z\"/>\n",
              "    </g>\n",
              "</svg>\n",
              "  </button>\n",
              "\n",
              "<style>\n",
              "  .colab-df-quickchart {\n",
              "      --bg-color: #E8F0FE;\n",
              "      --fill-color: #1967D2;\n",
              "      --hover-bg-color: #E2EBFA;\n",
              "      --hover-fill-color: #174EA6;\n",
              "      --disabled-fill-color: #AAA;\n",
              "      --disabled-bg-color: #DDD;\n",
              "  }\n",
              "\n",
              "  [theme=dark] .colab-df-quickchart {\n",
              "      --bg-color: #3B4455;\n",
              "      --fill-color: #D2E3FC;\n",
              "      --hover-bg-color: #434B5C;\n",
              "      --hover-fill-color: #FFFFFF;\n",
              "      --disabled-bg-color: #3B4455;\n",
              "      --disabled-fill-color: #666;\n",
              "  }\n",
              "\n",
              "  .colab-df-quickchart {\n",
              "    background-color: var(--bg-color);\n",
              "    border: none;\n",
              "    border-radius: 50%;\n",
              "    cursor: pointer;\n",
              "    display: none;\n",
              "    fill: var(--fill-color);\n",
              "    height: 32px;\n",
              "    padding: 0;\n",
              "    width: 32px;\n",
              "  }\n",
              "\n",
              "  .colab-df-quickchart:hover {\n",
              "    background-color: var(--hover-bg-color);\n",
              "    box-shadow: 0 1px 2px rgba(60, 64, 67, 0.3), 0 1px 3px 1px rgba(60, 64, 67, 0.15);\n",
              "    fill: var(--button-hover-fill-color);\n",
              "  }\n",
              "\n",
              "  .colab-df-quickchart-complete:disabled,\n",
              "  .colab-df-quickchart-complete:disabled:hover {\n",
              "    background-color: var(--disabled-bg-color);\n",
              "    fill: var(--disabled-fill-color);\n",
              "    box-shadow: none;\n",
              "  }\n",
              "\n",
              "  .colab-df-spinner {\n",
              "    border: 2px solid var(--fill-color);\n",
              "    border-color: transparent;\n",
              "    border-bottom-color: var(--fill-color);\n",
              "    animation:\n",
              "      spin 1s steps(1) infinite;\n",
              "  }\n",
              "\n",
              "  @keyframes spin {\n",
              "    0% {\n",
              "      border-color: transparent;\n",
              "      border-bottom-color: var(--fill-color);\n",
              "      border-left-color: var(--fill-color);\n",
              "    }\n",
              "    20% {\n",
              "      border-color: transparent;\n",
              "      border-left-color: var(--fill-color);\n",
              "      border-top-color: var(--fill-color);\n",
              "    }\n",
              "    30% {\n",
              "      border-color: transparent;\n",
              "      border-left-color: var(--fill-color);\n",
              "      border-top-color: var(--fill-color);\n",
              "      border-right-color: var(--fill-color);\n",
              "    }\n",
              "    40% {\n",
              "      border-color: transparent;\n",
              "      border-right-color: var(--fill-color);\n",
              "      border-top-color: var(--fill-color);\n",
              "    }\n",
              "    60% {\n",
              "      border-color: transparent;\n",
              "      border-right-color: var(--fill-color);\n",
              "    }\n",
              "    80% {\n",
              "      border-color: transparent;\n",
              "      border-right-color: var(--fill-color);\n",
              "      border-bottom-color: var(--fill-color);\n",
              "    }\n",
              "    90% {\n",
              "      border-color: transparent;\n",
              "      border-bottom-color: var(--fill-color);\n",
              "    }\n",
              "  }\n",
              "</style>\n",
              "\n",
              "  <script>\n",
              "    async function quickchart(key) {\n",
              "      const quickchartButtonEl =\n",
              "        document.querySelector('#' + key + ' button');\n",
              "      quickchartButtonEl.disabled = true;  // To prevent multiple clicks.\n",
              "      quickchartButtonEl.classList.add('colab-df-spinner');\n",
              "      try {\n",
              "        const charts = await google.colab.kernel.invokeFunction(\n",
              "            'suggestCharts', [key], {});\n",
              "      } catch (error) {\n",
              "        console.error('Error during call to suggestCharts:', error);\n",
              "      }\n",
              "      quickchartButtonEl.classList.remove('colab-df-spinner');\n",
              "      quickchartButtonEl.classList.add('colab-df-quickchart-complete');\n",
              "    }\n",
              "    (() => {\n",
              "      let quickchartButtonEl =\n",
              "        document.querySelector('#df-11e94ed8-1beb-4752-9c65-c480aae893cf button');\n",
              "      quickchartButtonEl.style.display =\n",
              "        google.colab.kernel.accessAllowed ? 'block' : 'none';\n",
              "    })();\n",
              "  </script>\n",
              "</div>\n",
              "    </div>\n",
              "  </div>\n"
            ]
          },
          "metadata": {},
          "execution_count": 7
        }
      ],
      "source": [
        "train.tail()"
      ]
    },
    {
      "cell_type": "markdown",
      "id": "3c1a310b",
      "metadata": {
        "id": "3c1a310b"
      },
      "source": [
        "- gender: 성별\n",
        "- car: 차량 소유 여부\n",
        "- reality: 부동산 소유 여부\n",
        "- child_num: 자녀 수\n",
        "- income_total: 연간 소득\n",
        "- income_type: 소득 분류 ['Commercial associate', 'Working', 'State servant', 'Pensioner', 'Student']\n",
        "- edu_type: 교육 수준 ['Higher education' ,'Secondary / secondary special', 'Incomplete higher', 'Lower secondary', 'Academic degree']\n",
        "- family_type: 결혼 여부 ['Married', 'Civil marriage', 'Separated', 'Single / not married', 'Widow']\n",
        "- house_type: 생활 방식  ['Municipal apartment', 'House / apartment', 'With parents','Co-op apartment', 'Rented apartment', 'Office apartment']\n",
        "- DAYS_BIRTH: 출생일. 데이터 수집 당시 (0)부터 역으로 셈, 즉, -1은 데이터 수집일 하루 전에 태어났음을 의미\n",
        "- DAYS_EMPLOYED: 업무 시작일. 데이터 수집 당시 (0)부터 역으로 셈, 즉, -1은 데이터 수집일 하루 전부터 일을 시작함을 의미/ 양수 값은 고용되지 않은 상태를 의미함\n",
        "- FLAG_MOBIL: 핸드폰 소유 여부\n",
        "- work_phone: 업무용 전화 소유 여부\n",
        "- phone: 전화 소유 여부\n",
        "- email: 이메일 소유 여부\n",
        "- occyp_type: 직업 유형                                       \n",
        "- family_size: 가족 규모\n",
        "- begin_month: 신용카드 발급 월. 데이터 수집 당시 (0)부터 역으로 셈, 즉, -1은 데이터 수집일 한 달 전에 신용카드를 발급함을 의미\n",
        "- credit: 사용자의 신용카드 대금 연체를 기준으로 한 신용도 => 낮을 수록 높은 신용의 신용카드 사용자를 의미함"
      ]
    },
    {
      "cell_type": "code",
      "execution_count": 8,
      "id": "9f897d9a",
      "metadata": {
        "colab": {
          "base_uri": "https://localhost:8080/"
        },
        "id": "9f897d9a",
        "outputId": "5cb202bd-fa1b-4a0c-f81f-f75facc3bb4e"
      },
      "outputs": [
        {
          "output_type": "stream",
          "name": "stdout",
          "text": [
            "<class 'pandas.core.frame.DataFrame'>\n",
            "RangeIndex: 26457 entries, 0 to 26456\n",
            "Data columns (total 20 columns):\n",
            " #   Column         Non-Null Count  Dtype  \n",
            "---  ------         --------------  -----  \n",
            " 0   index          26457 non-null  int64  \n",
            " 1   gender         26457 non-null  object \n",
            " 2   car            26457 non-null  object \n",
            " 3   reality        26457 non-null  object \n",
            " 4   child_num      26457 non-null  int64  \n",
            " 5   income_total   26457 non-null  float64\n",
            " 6   income_type    26457 non-null  object \n",
            " 7   edu_type       26457 non-null  object \n",
            " 8   family_type    26457 non-null  object \n",
            " 9   house_type     26457 non-null  object \n",
            " 10  DAYS_BIRTH     26457 non-null  int64  \n",
            " 11  DAYS_EMPLOYED  26457 non-null  int64  \n",
            " 12  FLAG_MOBIL     26457 non-null  int64  \n",
            " 13  work_phone     26457 non-null  int64  \n",
            " 14  phone          26457 non-null  int64  \n",
            " 15  email          26457 non-null  int64  \n",
            " 16  occyp_type     18286 non-null  object \n",
            " 17  family_size    26457 non-null  float64\n",
            " 18  begin_month    26457 non-null  float64\n",
            " 19  credit         26457 non-null  float64\n",
            "dtypes: float64(4), int64(8), object(8)\n",
            "memory usage: 4.0+ MB\n"
          ]
        }
      ],
      "source": [
        "train.info()"
      ]
    },
    {
      "cell_type": "code",
      "execution_count": 9,
      "id": "a567162c",
      "metadata": {
        "id": "a567162c"
      },
      "outputs": [],
      "source": [
        "test = pd.read_csv(\"test.csv\")"
      ]
    },
    {
      "cell_type": "code",
      "execution_count": 10,
      "id": "c8d86254",
      "metadata": {
        "colab": {
          "base_uri": "https://localhost:8080/",
          "height": 417
        },
        "id": "c8d86254",
        "outputId": "22a1b80e-b929-4a77-b404-c972caaa43b0"
      },
      "outputs": [
        {
          "output_type": "execute_result",
          "data": {
            "text/plain": [
              "      index gender car reality  child_num  income_total           income_type  \\\n",
              "9995  36452      F   Y       Y          0      202500.0               Working   \n",
              "9996  36453      M   Y       Y          0      202500.0               Working   \n",
              "9997  36454      F   N       Y          0      292500.0               Working   \n",
              "9998  36455      F   Y       N          0      180000.0  Commercial associate   \n",
              "9999  36456      F   N       Y          0      270000.0               Working   \n",
              "\n",
              "                           edu_type     family_type         house_type  \\\n",
              "9995              Incomplete higher         Married  House / apartment   \n",
              "9996  Secondary / secondary special  Civil marriage  House / apartment   \n",
              "9997  Secondary / secondary special         Married  House / apartment   \n",
              "9998  Secondary / secondary special         Married  House / apartment   \n",
              "9999               Higher education         Married  House / apartment   \n",
              "\n",
              "      DAYS_BIRTH  DAYS_EMPLOYED  FLAG_MOBIL  work_phone  phone  email  \\\n",
              "9995      -18593          -5434           1           1      1      0   \n",
              "9996      -10886          -1315           1           1      0      0   \n",
              "9997      -21016         -14018           1           0      0      0   \n",
              "9998      -16541          -1085           1           0      1      0   \n",
              "9999       -9154           -187           1           0      0      1   \n",
              "\n",
              "          occyp_type  family_size  begin_month  \n",
              "9995     Accountants          2.0        -19.0  \n",
              "9996        Laborers          2.0        -34.0  \n",
              "9997  Medicine staff          2.0        -55.0  \n",
              "9998             NaN          2.0        -33.0  \n",
              "9999        Laborers          2.0        -11.0  "
            ],
            "text/html": [
              "\n",
              "  <div id=\"df-6bb3b465-ad16-46d9-86ba-93cca7b7a4ec\" class=\"colab-df-container\">\n",
              "    <div>\n",
              "<style scoped>\n",
              "    .dataframe tbody tr th:only-of-type {\n",
              "        vertical-align: middle;\n",
              "    }\n",
              "\n",
              "    .dataframe tbody tr th {\n",
              "        vertical-align: top;\n",
              "    }\n",
              "\n",
              "    .dataframe thead th {\n",
              "        text-align: right;\n",
              "    }\n",
              "</style>\n",
              "<table border=\"1\" class=\"dataframe\">\n",
              "  <thead>\n",
              "    <tr style=\"text-align: right;\">\n",
              "      <th></th>\n",
              "      <th>index</th>\n",
              "      <th>gender</th>\n",
              "      <th>car</th>\n",
              "      <th>reality</th>\n",
              "      <th>child_num</th>\n",
              "      <th>income_total</th>\n",
              "      <th>income_type</th>\n",
              "      <th>edu_type</th>\n",
              "      <th>family_type</th>\n",
              "      <th>house_type</th>\n",
              "      <th>DAYS_BIRTH</th>\n",
              "      <th>DAYS_EMPLOYED</th>\n",
              "      <th>FLAG_MOBIL</th>\n",
              "      <th>work_phone</th>\n",
              "      <th>phone</th>\n",
              "      <th>email</th>\n",
              "      <th>occyp_type</th>\n",
              "      <th>family_size</th>\n",
              "      <th>begin_month</th>\n",
              "    </tr>\n",
              "  </thead>\n",
              "  <tbody>\n",
              "    <tr>\n",
              "      <th>9995</th>\n",
              "      <td>36452</td>\n",
              "      <td>F</td>\n",
              "      <td>Y</td>\n",
              "      <td>Y</td>\n",
              "      <td>0</td>\n",
              "      <td>202500.0</td>\n",
              "      <td>Working</td>\n",
              "      <td>Incomplete higher</td>\n",
              "      <td>Married</td>\n",
              "      <td>House / apartment</td>\n",
              "      <td>-18593</td>\n",
              "      <td>-5434</td>\n",
              "      <td>1</td>\n",
              "      <td>1</td>\n",
              "      <td>1</td>\n",
              "      <td>0</td>\n",
              "      <td>Accountants</td>\n",
              "      <td>2.0</td>\n",
              "      <td>-19.0</td>\n",
              "    </tr>\n",
              "    <tr>\n",
              "      <th>9996</th>\n",
              "      <td>36453</td>\n",
              "      <td>M</td>\n",
              "      <td>Y</td>\n",
              "      <td>Y</td>\n",
              "      <td>0</td>\n",
              "      <td>202500.0</td>\n",
              "      <td>Working</td>\n",
              "      <td>Secondary / secondary special</td>\n",
              "      <td>Civil marriage</td>\n",
              "      <td>House / apartment</td>\n",
              "      <td>-10886</td>\n",
              "      <td>-1315</td>\n",
              "      <td>1</td>\n",
              "      <td>1</td>\n",
              "      <td>0</td>\n",
              "      <td>0</td>\n",
              "      <td>Laborers</td>\n",
              "      <td>2.0</td>\n",
              "      <td>-34.0</td>\n",
              "    </tr>\n",
              "    <tr>\n",
              "      <th>9997</th>\n",
              "      <td>36454</td>\n",
              "      <td>F</td>\n",
              "      <td>N</td>\n",
              "      <td>Y</td>\n",
              "      <td>0</td>\n",
              "      <td>292500.0</td>\n",
              "      <td>Working</td>\n",
              "      <td>Secondary / secondary special</td>\n",
              "      <td>Married</td>\n",
              "      <td>House / apartment</td>\n",
              "      <td>-21016</td>\n",
              "      <td>-14018</td>\n",
              "      <td>1</td>\n",
              "      <td>0</td>\n",
              "      <td>0</td>\n",
              "      <td>0</td>\n",
              "      <td>Medicine staff</td>\n",
              "      <td>2.0</td>\n",
              "      <td>-55.0</td>\n",
              "    </tr>\n",
              "    <tr>\n",
              "      <th>9998</th>\n",
              "      <td>36455</td>\n",
              "      <td>F</td>\n",
              "      <td>Y</td>\n",
              "      <td>N</td>\n",
              "      <td>0</td>\n",
              "      <td>180000.0</td>\n",
              "      <td>Commercial associate</td>\n",
              "      <td>Secondary / secondary special</td>\n",
              "      <td>Married</td>\n",
              "      <td>House / apartment</td>\n",
              "      <td>-16541</td>\n",
              "      <td>-1085</td>\n",
              "      <td>1</td>\n",
              "      <td>0</td>\n",
              "      <td>1</td>\n",
              "      <td>0</td>\n",
              "      <td>NaN</td>\n",
              "      <td>2.0</td>\n",
              "      <td>-33.0</td>\n",
              "    </tr>\n",
              "    <tr>\n",
              "      <th>9999</th>\n",
              "      <td>36456</td>\n",
              "      <td>F</td>\n",
              "      <td>N</td>\n",
              "      <td>Y</td>\n",
              "      <td>0</td>\n",
              "      <td>270000.0</td>\n",
              "      <td>Working</td>\n",
              "      <td>Higher education</td>\n",
              "      <td>Married</td>\n",
              "      <td>House / apartment</td>\n",
              "      <td>-9154</td>\n",
              "      <td>-187</td>\n",
              "      <td>1</td>\n",
              "      <td>0</td>\n",
              "      <td>0</td>\n",
              "      <td>1</td>\n",
              "      <td>Laborers</td>\n",
              "      <td>2.0</td>\n",
              "      <td>-11.0</td>\n",
              "    </tr>\n",
              "  </tbody>\n",
              "</table>\n",
              "</div>\n",
              "    <div class=\"colab-df-buttons\">\n",
              "\n",
              "  <div class=\"colab-df-container\">\n",
              "    <button class=\"colab-df-convert\" onclick=\"convertToInteractive('df-6bb3b465-ad16-46d9-86ba-93cca7b7a4ec')\"\n",
              "            title=\"Convert this dataframe to an interactive table.\"\n",
              "            style=\"display:none;\">\n",
              "\n",
              "  <svg xmlns=\"http://www.w3.org/2000/svg\" height=\"24px\" viewBox=\"0 -960 960 960\">\n",
              "    <path d=\"M120-120v-720h720v720H120Zm60-500h600v-160H180v160Zm220 220h160v-160H400v160Zm0 220h160v-160H400v160ZM180-400h160v-160H180v160Zm440 0h160v-160H620v160ZM180-180h160v-160H180v160Zm440 0h160v-160H620v160Z\"/>\n",
              "  </svg>\n",
              "    </button>\n",
              "\n",
              "  <style>\n",
              "    .colab-df-container {\n",
              "      display:flex;\n",
              "      gap: 12px;\n",
              "    }\n",
              "\n",
              "    .colab-df-convert {\n",
              "      background-color: #E8F0FE;\n",
              "      border: none;\n",
              "      border-radius: 50%;\n",
              "      cursor: pointer;\n",
              "      display: none;\n",
              "      fill: #1967D2;\n",
              "      height: 32px;\n",
              "      padding: 0 0 0 0;\n",
              "      width: 32px;\n",
              "    }\n",
              "\n",
              "    .colab-df-convert:hover {\n",
              "      background-color: #E2EBFA;\n",
              "      box-shadow: 0px 1px 2px rgba(60, 64, 67, 0.3), 0px 1px 3px 1px rgba(60, 64, 67, 0.15);\n",
              "      fill: #174EA6;\n",
              "    }\n",
              "\n",
              "    .colab-df-buttons div {\n",
              "      margin-bottom: 4px;\n",
              "    }\n",
              "\n",
              "    [theme=dark] .colab-df-convert {\n",
              "      background-color: #3B4455;\n",
              "      fill: #D2E3FC;\n",
              "    }\n",
              "\n",
              "    [theme=dark] .colab-df-convert:hover {\n",
              "      background-color: #434B5C;\n",
              "      box-shadow: 0px 1px 3px 1px rgba(0, 0, 0, 0.15);\n",
              "      filter: drop-shadow(0px 1px 2px rgba(0, 0, 0, 0.3));\n",
              "      fill: #FFFFFF;\n",
              "    }\n",
              "  </style>\n",
              "\n",
              "    <script>\n",
              "      const buttonEl =\n",
              "        document.querySelector('#df-6bb3b465-ad16-46d9-86ba-93cca7b7a4ec button.colab-df-convert');\n",
              "      buttonEl.style.display =\n",
              "        google.colab.kernel.accessAllowed ? 'block' : 'none';\n",
              "\n",
              "      async function convertToInteractive(key) {\n",
              "        const element = document.querySelector('#df-6bb3b465-ad16-46d9-86ba-93cca7b7a4ec');\n",
              "        const dataTable =\n",
              "          await google.colab.kernel.invokeFunction('convertToInteractive',\n",
              "                                                    [key], {});\n",
              "        if (!dataTable) return;\n",
              "\n",
              "        const docLinkHtml = 'Like what you see? Visit the ' +\n",
              "          '<a target=\"_blank\" href=https://colab.research.google.com/notebooks/data_table.ipynb>data table notebook</a>'\n",
              "          + ' to learn more about interactive tables.';\n",
              "        element.innerHTML = '';\n",
              "        dataTable['output_type'] = 'display_data';\n",
              "        await google.colab.output.renderOutput(dataTable, element);\n",
              "        const docLink = document.createElement('div');\n",
              "        docLink.innerHTML = docLinkHtml;\n",
              "        element.appendChild(docLink);\n",
              "      }\n",
              "    </script>\n",
              "  </div>\n",
              "\n",
              "\n",
              "<div id=\"df-3e4fc167-c334-4e27-a120-ec30ebb70422\">\n",
              "  <button class=\"colab-df-quickchart\" onclick=\"quickchart('df-3e4fc167-c334-4e27-a120-ec30ebb70422')\"\n",
              "            title=\"Suggest charts.\"\n",
              "            style=\"display:none;\">\n",
              "\n",
              "<svg xmlns=\"http://www.w3.org/2000/svg\" height=\"24px\"viewBox=\"0 0 24 24\"\n",
              "     width=\"24px\">\n",
              "    <g>\n",
              "        <path d=\"M19 3H5c-1.1 0-2 .9-2 2v14c0 1.1.9 2 2 2h14c1.1 0 2-.9 2-2V5c0-1.1-.9-2-2-2zM9 17H7v-7h2v7zm4 0h-2V7h2v10zm4 0h-2v-4h2v4z\"/>\n",
              "    </g>\n",
              "</svg>\n",
              "  </button>\n",
              "\n",
              "<style>\n",
              "  .colab-df-quickchart {\n",
              "      --bg-color: #E8F0FE;\n",
              "      --fill-color: #1967D2;\n",
              "      --hover-bg-color: #E2EBFA;\n",
              "      --hover-fill-color: #174EA6;\n",
              "      --disabled-fill-color: #AAA;\n",
              "      --disabled-bg-color: #DDD;\n",
              "  }\n",
              "\n",
              "  [theme=dark] .colab-df-quickchart {\n",
              "      --bg-color: #3B4455;\n",
              "      --fill-color: #D2E3FC;\n",
              "      --hover-bg-color: #434B5C;\n",
              "      --hover-fill-color: #FFFFFF;\n",
              "      --disabled-bg-color: #3B4455;\n",
              "      --disabled-fill-color: #666;\n",
              "  }\n",
              "\n",
              "  .colab-df-quickchart {\n",
              "    background-color: var(--bg-color);\n",
              "    border: none;\n",
              "    border-radius: 50%;\n",
              "    cursor: pointer;\n",
              "    display: none;\n",
              "    fill: var(--fill-color);\n",
              "    height: 32px;\n",
              "    padding: 0;\n",
              "    width: 32px;\n",
              "  }\n",
              "\n",
              "  .colab-df-quickchart:hover {\n",
              "    background-color: var(--hover-bg-color);\n",
              "    box-shadow: 0 1px 2px rgba(60, 64, 67, 0.3), 0 1px 3px 1px rgba(60, 64, 67, 0.15);\n",
              "    fill: var(--button-hover-fill-color);\n",
              "  }\n",
              "\n",
              "  .colab-df-quickchart-complete:disabled,\n",
              "  .colab-df-quickchart-complete:disabled:hover {\n",
              "    background-color: var(--disabled-bg-color);\n",
              "    fill: var(--disabled-fill-color);\n",
              "    box-shadow: none;\n",
              "  }\n",
              "\n",
              "  .colab-df-spinner {\n",
              "    border: 2px solid var(--fill-color);\n",
              "    border-color: transparent;\n",
              "    border-bottom-color: var(--fill-color);\n",
              "    animation:\n",
              "      spin 1s steps(1) infinite;\n",
              "  }\n",
              "\n",
              "  @keyframes spin {\n",
              "    0% {\n",
              "      border-color: transparent;\n",
              "      border-bottom-color: var(--fill-color);\n",
              "      border-left-color: var(--fill-color);\n",
              "    }\n",
              "    20% {\n",
              "      border-color: transparent;\n",
              "      border-left-color: var(--fill-color);\n",
              "      border-top-color: var(--fill-color);\n",
              "    }\n",
              "    30% {\n",
              "      border-color: transparent;\n",
              "      border-left-color: var(--fill-color);\n",
              "      border-top-color: var(--fill-color);\n",
              "      border-right-color: var(--fill-color);\n",
              "    }\n",
              "    40% {\n",
              "      border-color: transparent;\n",
              "      border-right-color: var(--fill-color);\n",
              "      border-top-color: var(--fill-color);\n",
              "    }\n",
              "    60% {\n",
              "      border-color: transparent;\n",
              "      border-right-color: var(--fill-color);\n",
              "    }\n",
              "    80% {\n",
              "      border-color: transparent;\n",
              "      border-right-color: var(--fill-color);\n",
              "      border-bottom-color: var(--fill-color);\n",
              "    }\n",
              "    90% {\n",
              "      border-color: transparent;\n",
              "      border-bottom-color: var(--fill-color);\n",
              "    }\n",
              "  }\n",
              "</style>\n",
              "\n",
              "  <script>\n",
              "    async function quickchart(key) {\n",
              "      const quickchartButtonEl =\n",
              "        document.querySelector('#' + key + ' button');\n",
              "      quickchartButtonEl.disabled = true;  // To prevent multiple clicks.\n",
              "      quickchartButtonEl.classList.add('colab-df-spinner');\n",
              "      try {\n",
              "        const charts = await google.colab.kernel.invokeFunction(\n",
              "            'suggestCharts', [key], {});\n",
              "      } catch (error) {\n",
              "        console.error('Error during call to suggestCharts:', error);\n",
              "      }\n",
              "      quickchartButtonEl.classList.remove('colab-df-spinner');\n",
              "      quickchartButtonEl.classList.add('colab-df-quickchart-complete');\n",
              "    }\n",
              "    (() => {\n",
              "      let quickchartButtonEl =\n",
              "        document.querySelector('#df-3e4fc167-c334-4e27-a120-ec30ebb70422 button');\n",
              "      quickchartButtonEl.style.display =\n",
              "        google.colab.kernel.accessAllowed ? 'block' : 'none';\n",
              "    })();\n",
              "  </script>\n",
              "</div>\n",
              "    </div>\n",
              "  </div>\n"
            ]
          },
          "metadata": {},
          "execution_count": 10
        }
      ],
      "source": [
        "test.tail()"
      ]
    },
    {
      "cell_type": "code",
      "execution_count": 11,
      "id": "0d33f5e9",
      "metadata": {
        "colab": {
          "base_uri": "https://localhost:8080/"
        },
        "id": "0d33f5e9",
        "outputId": "a176326f-d14e-499c-8a18-742f6d263faf"
      },
      "outputs": [
        {
          "output_type": "stream",
          "name": "stdout",
          "text": [
            "<class 'pandas.core.frame.DataFrame'>\n",
            "RangeIndex: 10000 entries, 0 to 9999\n",
            "Data columns (total 19 columns):\n",
            " #   Column         Non-Null Count  Dtype  \n",
            "---  ------         --------------  -----  \n",
            " 0   index          10000 non-null  int64  \n",
            " 1   gender         10000 non-null  object \n",
            " 2   car            10000 non-null  object \n",
            " 3   reality        10000 non-null  object \n",
            " 4   child_num      10000 non-null  int64  \n",
            " 5   income_total   10000 non-null  float64\n",
            " 6   income_type    10000 non-null  object \n",
            " 7   edu_type       10000 non-null  object \n",
            " 8   family_type    10000 non-null  object \n",
            " 9   house_type     10000 non-null  object \n",
            " 10  DAYS_BIRTH     10000 non-null  int64  \n",
            " 11  DAYS_EMPLOYED  10000 non-null  int64  \n",
            " 12  FLAG_MOBIL     10000 non-null  int64  \n",
            " 13  work_phone     10000 non-null  int64  \n",
            " 14  phone          10000 non-null  int64  \n",
            " 15  email          10000 non-null  int64  \n",
            " 16  occyp_type     6848 non-null   object \n",
            " 17  family_size    10000 non-null  float64\n",
            " 18  begin_month    10000 non-null  float64\n",
            "dtypes: float64(3), int64(8), object(8)\n",
            "memory usage: 1.4+ MB\n"
          ]
        }
      ],
      "source": [
        "test.info()"
      ]
    },
    {
      "cell_type": "code",
      "execution_count": 12,
      "id": "ffcd7af9",
      "metadata": {
        "colab": {
          "base_uri": "https://localhost:8080/"
        },
        "id": "ffcd7af9",
        "outputId": "45825192-fb07-43f1-aa29-67dfe0e34502"
      },
      "outputs": [
        {
          "output_type": "stream",
          "name": "stdout",
          "text": [
            "numerical feats:\n",
            " ['index', 'child_num', 'income_total', 'DAYS_BIRTH', 'DAYS_EMPLOYED', 'FLAG_MOBIL', 'work_phone', 'phone', 'email', 'family_size', 'begin_month']\n",
            "\n",
            "categorical feats:\n",
            " ['gender', 'car', 'reality', 'income_type', 'edu_type', 'family_type', 'house_type', 'occyp_type']\n"
          ]
        }
      ],
      "source": [
        "# numeric, category 칼럼 분류\n",
        "numerical_feats = train.dtypes[train.dtypes != \"object\"].index.tolist()\n",
        "numerical_feats.remove('credit')\n",
        "categorical_feats = train.dtypes[train.dtypes == \"object\"].index.tolist()\n",
        "\n",
        "print('numerical feats:\\n', numerical_feats)\n",
        "print('\\ncategorical feats:\\n', categorical_feats)"
      ]
    },
    {
      "cell_type": "code",
      "execution_count": 13,
      "id": "494d941b",
      "metadata": {
        "colab": {
          "base_uri": "https://localhost:8080/"
        },
        "id": "494d941b",
        "outputId": "0c29d097-479b-4a5c-f984-8e271aa2345a"
      },
      "outputs": [
        {
          "output_type": "execute_result",
          "data": {
            "text/plain": [
              "Secondary / secondary special    17995\n",
              "Higher education                  7162\n",
              "Incomplete higher                 1020\n",
              "Lower secondary                    257\n",
              "Academic degree                     23\n",
              "Name: edu_type, dtype: int64"
            ]
          },
          "metadata": {},
          "execution_count": 13
        }
      ],
      "source": [
        "# edu type\n",
        "train['edu_type'].value_counts()"
      ]
    },
    {
      "cell_type": "code",
      "execution_count": 14,
      "id": "e56acc14",
      "metadata": {
        "colab": {
          "base_uri": "https://localhost:8080/"
        },
        "id": "e56acc14",
        "outputId": "459f42c8-b950-4ab2-9ec2-54754680ff10"
      },
      "outputs": [
        {
          "output_type": "execute_result",
          "data": {
            "text/plain": [
              "Working                 13645\n",
              "Commercial associate     6202\n",
              "Pensioner                4449\n",
              "State servant            2154\n",
              "Student                     7\n",
              "Name: income_type, dtype: int64"
            ]
          },
          "metadata": {},
          "execution_count": 14
        }
      ],
      "source": [
        "# income type\n",
        "train['income_type'].value_counts()"
      ]
    },
    {
      "cell_type": "code",
      "execution_count": 15,
      "id": "7f5369bc",
      "metadata": {
        "colab": {
          "base_uri": "https://localhost:8080/"
        },
        "id": "7f5369bc",
        "outputId": "31118c46-268d-4326-b923-af451de97c12"
      },
      "outputs": [
        {
          "output_type": "execute_result",
          "data": {
            "text/plain": [
              "Married                 18196\n",
              "Single / not married     3496\n",
              "Civil marriage           2123\n",
              "Separated                1539\n",
              "Widow                    1103\n",
              "Name: family_type, dtype: int64"
            ]
          },
          "metadata": {},
          "execution_count": 15
        }
      ],
      "source": [
        "# family type\n",
        "train['family_type'].value_counts()"
      ]
    },
    {
      "cell_type": "code",
      "execution_count": 16,
      "id": "bc2e7a56",
      "metadata": {
        "colab": {
          "base_uri": "https://localhost:8080/"
        },
        "id": "bc2e7a56",
        "outputId": "3a2e37d2-0bd2-4458-8df5-594b2a95ff4b"
      },
      "outputs": [
        {
          "output_type": "execute_result",
          "data": {
            "text/plain": [
              "House / apartment      23653\n",
              "With parents            1257\n",
              "Municipal apartment      818\n",
              "Rented apartment         429\n",
              "Office apartment         190\n",
              "Co-op apartment          110\n",
              "Name: house_type, dtype: int64"
            ]
          },
          "metadata": {},
          "execution_count": 16
        }
      ],
      "source": [
        "# house type\n",
        "train['house_type'].value_counts()"
      ]
    },
    {
      "cell_type": "markdown",
      "id": "453b9914",
      "metadata": {
        "id": "453b9914"
      },
      "source": [
        "## 2) EDA\n",
        "### (1) gender"
      ]
    },
    {
      "cell_type": "code",
      "execution_count": 17,
      "id": "e5158471",
      "metadata": {
        "colab": {
          "base_uri": "https://localhost:8080/",
          "height": 444
        },
        "id": "e5158471",
        "outputId": "99dde2ef-771c-492e-fb4f-ad2203d4d97e"
      },
      "outputs": [
        {
          "output_type": "display_data",
          "data": {
            "text/plain": [
              "<Figure size 500x500 with 1 Axes>"
            ],
            "image/png": "[encoded data removed]"
          },
          "metadata": {}
        }
      ],
      "source": [
        "palette2 = sns.color_palette(\"Set3\", 2)\n",
        "train_gender = train.groupby('gender').count()['index']\n",
        "fig = plt.figure(figsize=(5,5))\n",
        "plt.pie(train_gender, labels = train_gender.index, autopct='%1.1f%%', colors=palette2)\n",
        "plt.title('Gender distribution')\n",
        "plt.show()"
      ]
    },
    {
      "cell_type": "markdown",
      "id": "e88207e1",
      "metadata": {
        "id": "e88207e1"
      },
      "source": [
        ">- 여성이 남성에 비해 2배가량 많다"
      ]
    },
    {
      "cell_type": "markdown",
      "id": "aa4ca201",
      "metadata": {
        "id": "aa4ca201"
      },
      "source": [
        "### (2) age(DAYS_BIRTH)"
      ]
    },
    {
      "cell_type": "code",
      "execution_count": 18,
      "id": "63bb81c9",
      "metadata": {
        "colab": {
          "base_uri": "https://localhost:8080/"
        },
        "id": "63bb81c9",
        "outputId": "190f4ad6-f0f5-4a2d-a7ef-39b96b0f901d"
      },
      "outputs": [
        {
          "output_type": "execute_result",
          "data": {
            "text/plain": [
              "0    38\n",
              "1    31\n",
              "2    52\n",
              "3    41\n",
              "4    41\n",
              "Name: DAYS_BIRTH, dtype: int32"
            ]
          },
          "metadata": {},
          "execution_count": 18
        }
      ],
      "source": [
        "# DAYS_BIRTH를 나이로 변환: 365 나누기\n",
        "age = round(abs(train['DAYS_BIRTH'])/365.5,0).astype(np.int32)\n",
        "age.head()"
      ]
    },
    {
      "cell_type": "code",
      "execution_count": 19,
      "id": "026bd0b5",
      "metadata": {
        "colab": {
          "base_uri": "https://localhost:8080/",
          "height": 472
        },
        "id": "026bd0b5",
        "outputId": "9fe66a2e-c6d2-4db4-bd7d-9d028f3e7d7b"
      },
      "outputs": [
        {
          "output_type": "display_data",
          "data": {
            "text/plain": [
              "<Figure size 640x480 with 1 Axes>"
            ],
            "image/png": "[encoded data removed]"
          },
          "metadata": {}
        }
      ],
      "source": [
        "age.plot.hist(bins=range(10,81,10),color='#ff9999', edgecolor='k')\n",
        "plt.xlabel('age')\n",
        "plt.title('Age distribution')\n",
        "plt.show()"
      ]
    },
    {
      "cell_type": "markdown",
      "id": "457511b2",
      "metadata": {
        "id": "457511b2"
      },
      "source": [
        "> - 30~50대가 주를 이루고 있다"
      ]
    },
    {
      "cell_type": "markdown",
      "id": "978fda3a",
      "metadata": {
        "id": "978fda3a"
      },
      "source": [
        "### (3) car"
      ]
    },
    {
      "cell_type": "code",
      "execution_count": 20,
      "id": "3232b84a",
      "metadata": {
        "colab": {
          "base_uri": "https://localhost:8080/",
          "height": 444
        },
        "id": "3232b84a",
        "outputId": "baa4457c-eb0c-4f57-a2bb-6ab3f0cc401c"
      },
      "outputs": [
        {
          "output_type": "display_data",
          "data": {
            "text/plain": [
              "<Figure size 500x500 with 1 Axes>"
            ],
            "image/png": "[encoded data removed]"
          },
          "metadata": {}
        }
      ],
      "source": [
        "train_car = train.groupby('car').count()['index']\n",
        "fig = plt.figure(figsize=(5,5))\n",
        "plt.pie(train_car, labels=train_car.index, autopct='%1.1f%%', colors=palette2)\n",
        "plt.title('Number of car owners')\n",
        "plt.show()"
      ]
    },
    {
      "cell_type": "markdown",
      "id": "827f323a",
      "metadata": {
        "id": "827f323a"
      },
      "source": [
        ">- 자동차를 소유하지 않는 사람이 더 많다"
      ]
    },
    {
      "cell_type": "markdown",
      "id": "7c4b8c20",
      "metadata": {
        "id": "7c4b8c20"
      },
      "source": [
        "### (4) 소득분류(income_type)"
      ]
    },
    {
      "cell_type": "code",
      "execution_count": 21,
      "id": "4003a353",
      "metadata": {
        "colab": {
          "base_uri": "https://localhost:8080/"
        },
        "id": "4003a353",
        "outputId": "80345bce-3b59-4591-c3ef-20aa57a2efb2"
      },
      "outputs": [
        {
          "output_type": "execute_result",
          "data": {
            "text/plain": [
              "income_type\n",
              "Commercial associate     6202\n",
              "Pensioner                4449\n",
              "State servant            2154\n",
              "Student                     7\n",
              "Working                 13645\n",
              "Name: index, dtype: int64"
            ]
          },
          "metadata": {},
          "execution_count": 21
        }
      ],
      "source": [
        "train_income = train.groupby('income_type').count()['index']\n",
        "train_income"
      ]
    },
    {
      "cell_type": "code",
      "execution_count": 22,
      "id": "79a01a18",
      "metadata": {
        "colab": {
          "base_uri": "https://localhost:8080/",
          "height": 428
        },
        "id": "79a01a18",
        "outputId": "f64ddcb0-1ef6-47b6-e0df-3e7c4fe6c269"
      },
      "outputs": [
        {
          "output_type": "display_data",
          "data": {
            "text/plain": [
              "<Figure size 640x480 with 1 Axes>"
            ],
            "image/png": "[encoded data removed]"
          },
          "metadata": {}
        }
      ],
      "source": [
        "palette = sns.color_palette(\"Set3\", 5)\n",
        "plt.pie(train_income, labels=train_income.index, autopct='%1.1f%%', colors=palette)\n",
        "plt.title('Income type')\n",
        "plt.show()"
      ]
    },
    {
      "cell_type": "markdown",
      "id": "cca33c31",
      "metadata": {
        "id": "cca33c31"
      },
      "source": [
        "### (5) 교육 수준"
      ]
    },
    {
      "cell_type": "code",
      "execution_count": 23,
      "id": "8921a540",
      "metadata": {
        "colab": {
          "base_uri": "https://localhost:8080/",
          "height": 206
        },
        "id": "8921a540",
        "outputId": "c92c8b7c-1db4-47a8-da41-8398480a39b5"
      },
      "outputs": [
        {
          "output_type": "execute_result",
          "data": {
            "text/plain": [
              "                        edu_type  index\n",
              "0                Academic degree     23\n",
              "1               Higher education   7162\n",
              "2              Incomplete higher   1020\n",
              "3                Lower secondary    257\n",
              "4  Secondary / secondary special  17995"
            ],
            "text/html": [
              "\n",
              "  <div id=\"df-230bc580-a014-4782-82bc-2cba1a4224e3\" class=\"colab-df-container\">\n",
              "    <div>\n",
              "<style scoped>\n",
              "    .dataframe tbody tr th:only-of-type {\n",
              "        vertical-align: middle;\n",
              "    }\n",
              "\n",
              "    .dataframe tbody tr th {\n",
              "        vertical-align: top;\n",
              "    }\n",
              "\n",
              "    .dataframe thead th {\n",
              "        text-align: right;\n",
              "    }\n",
              "</style>\n",
              "<table border=\"1\" class=\"dataframe\">\n",
              "  <thead>\n",
              "    <tr style=\"text-align: right;\">\n",
              "      <th></th>\n",
              "      <th>edu_type</th>\n",
              "      <th>index</th>\n",
              "    </tr>\n",
              "  </thead>\n",
              "  <tbody>\n",
              "    <tr>\n",
              "      <th>0</th>\n",
              "      <td>Academic degree</td>\n",
              "      <td>23</td>\n",
              "    </tr>\n",
              "    <tr>\n",
              "      <th>1</th>\n",
              "      <td>Higher education</td>\n",
              "      <td>7162</td>\n",
              "    </tr>\n",
              "    <tr>\n",
              "      <th>2</th>\n",
              "      <td>Incomplete higher</td>\n",
              "      <td>1020</td>\n",
              "    </tr>\n",
              "    <tr>\n",
              "      <th>3</th>\n",
              "      <td>Lower secondary</td>\n",
              "      <td>257</td>\n",
              "    </tr>\n",
              "    <tr>\n",
              "      <th>4</th>\n",
              "      <td>Secondary / secondary special</td>\n",
              "      <td>17995</td>\n",
              "    </tr>\n",
              "  </tbody>\n",
              "</table>\n",
              "</div>\n",
              "    <div class=\"colab-df-buttons\">\n",
              "\n",
              "  <div class=\"colab-df-container\">\n",
              "    <button class=\"colab-df-convert\" onclick=\"convertToInteractive('df-230bc580-a014-4782-82bc-2cba1a4224e3')\"\n",
              "            title=\"Convert this dataframe to an interactive table.\"\n",
              "            style=\"display:none;\">\n",
              "\n",
              "  <svg xmlns=\"http://www.w3.org/2000/svg\" height=\"24px\" viewBox=\"0 -960 960 960\">\n",
              "    <path d=\"M120-120v-720h720v720H120Zm60-500h600v-160H180v160Zm220 220h160v-160H400v160Zm0 220h160v-160H400v160ZM180-400h160v-160H180v160Zm440 0h160v-160H620v160ZM180-180h160v-160H180v160Zm440 0h160v-160H620v160Z\"/>\n",
              "  </svg>\n",
              "    </button>\n",
              "\n",
              "  <style>\n",
              "    .colab-df-container {\n",
              "      display:flex;\n",
              "      gap: 12px;\n",
              "    }\n",
              "\n",
              "    .colab-df-convert {\n",
              "      background-color: #E8F0FE;\n",
              "      border: none;\n",
              "      border-radius: 50%;\n",
              "      cursor: pointer;\n",
              "      display: none;\n",
              "      fill: #1967D2;\n",
              "      height: 32px;\n",
              "      padding: 0 0 0 0;\n",
              "      width: 32px;\n",
              "    }\n",
              "\n",
              "    .colab-df-convert:hover {\n",
              "      background-color: #E2EBFA;\n",
              "      box-shadow: 0px 1px 2px rgba(60, 64, 67, 0.3), 0px 1px 3px 1px rgba(60, 64, 67, 0.15);\n",
              "      fill: #174EA6;\n",
              "    }\n",
              "\n",
              "    .colab-df-buttons div {\n",
              "      margin-bottom: 4px;\n",
              "    }\n",
              "\n",
              "    [theme=dark] .colab-df-convert {\n",
              "      background-color: #3B4455;\n",
              "      fill: #D2E3FC;\n",
              "    }\n",
              "\n",
              "    [theme=dark] .colab-df-convert:hover {\n",
              "      background-color: #434B5C;\n",
              "      box-shadow: 0px 1px 3px 1px rgba(0, 0, 0, 0.15);\n",
              "      filter: drop-shadow(0px 1px 2px rgba(0, 0, 0, 0.3));\n",
              "      fill: #FFFFFF;\n",
              "    }\n",
              "  </style>\n",
              "\n",
              "    <script>\n",
              "      const buttonEl =\n",
              "        document.querySelector('#df-230bc580-a014-4782-82bc-2cba1a4224e3 button.colab-df-convert');\n",
              "      buttonEl.style.display =\n",
              "        google.colab.kernel.accessAllowed ? 'block' : 'none';\n",
              "\n",
              "      async function convertToInteractive(key) {\n",
              "        const element = document.querySelector('#df-230bc580-a014-4782-82bc-2cba1a4224e3');\n",
              "        const dataTable =\n",
              "          await google.colab.kernel.invokeFunction('convertToInteractive',\n",
              "                                                    [key], {});\n",
              "        if (!dataTable) return;\n",
              "\n",
              "        const docLinkHtml = 'Like what you see? Visit the ' +\n",
              "          '<a target=\"_blank\" href=https://colab.research.google.com/notebooks/data_table.ipynb>data table notebook</a>'\n",
              "          + ' to learn more about interactive tables.';\n",
              "        element.innerHTML = '';\n",
              "        dataTable['output_type'] = 'display_data';\n",
              "        await google.colab.output.renderOutput(dataTable, element);\n",
              "        const docLink = document.createElement('div');\n",
              "        docLink.innerHTML = docLinkHtml;\n",
              "        element.appendChild(docLink);\n",
              "      }\n",
              "    </script>\n",
              "  </div>\n",
              "\n",
              "\n",
              "<div id=\"df-ed8ba994-56ba-4cb3-81b4-a73742c3e914\">\n",
              "  <button class=\"colab-df-quickchart\" onclick=\"quickchart('df-ed8ba994-56ba-4cb3-81b4-a73742c3e914')\"\n",
              "            title=\"Suggest charts.\"\n",
              "            style=\"display:none;\">\n",
              "\n",
              "<svg xmlns=\"http://www.w3.org/2000/svg\" height=\"24px\"viewBox=\"0 0 24 24\"\n",
              "     width=\"24px\">\n",
              "    <g>\n",
              "        <path d=\"M19 3H5c-1.1 0-2 .9-2 2v14c0 1.1.9 2 2 2h14c1.1 0 2-.9 2-2V5c0-1.1-.9-2-2-2zM9 17H7v-7h2v7zm4 0h-2V7h2v10zm4 0h-2v-4h2v4z\"/>\n",
              "    </g>\n",
              "</svg>\n",
              "  </button>\n",
              "\n",
              "<style>\n",
              "  .colab-df-quickchart {\n",
              "      --bg-color: #E8F0FE;\n",
              "      --fill-color: #1967D2;\n",
              "      --hover-bg-color: #E2EBFA;\n",
              "      --hover-fill-color: #174EA6;\n",
              "      --disabled-fill-color: #AAA;\n",
              "      --disabled-bg-color: #DDD;\n",
              "  }\n",
              "\n",
              "  [theme=dark] .colab-df-quickchart {\n",
              "      --bg-color: #3B4455;\n",
              "      --fill-color: #D2E3FC;\n",
              "      --hover-bg-color: #434B5C;\n",
              "      --hover-fill-color: #FFFFFF;\n",
              "      --disabled-bg-color: #3B4455;\n",
              "      --disabled-fill-color: #666;\n",
              "  }\n",
              "\n",
              "  .colab-df-quickchart {\n",
              "    background-color: var(--bg-color);\n",
              "    border: none;\n",
              "    border-radius: 50%;\n",
              "    cursor: pointer;\n",
              "    display: none;\n",
              "    fill: var(--fill-color);\n",
              "    height: 32px;\n",
              "    padding: 0;\n",
              "    width: 32px;\n",
              "  }\n",
              "\n",
              "  .colab-df-quickchart:hover {\n",
              "    background-color: var(--hover-bg-color);\n",
              "    box-shadow: 0 1px 2px rgba(60, 64, 67, 0.3), 0 1px 3px 1px rgba(60, 64, 67, 0.15);\n",
              "    fill: var(--button-hover-fill-color);\n",
              "  }\n",
              "\n",
              "  .colab-df-quickchart-complete:disabled,\n",
              "  .colab-df-quickchart-complete:disabled:hover {\n",
              "    background-color: var(--disabled-bg-color);\n",
              "    fill: var(--disabled-fill-color);\n",
              "    box-shadow: none;\n",
              "  }\n",
              "\n",
              "  .colab-df-spinner {\n",
              "    border: 2px solid var(--fill-color);\n",
              "    border-color: transparent;\n",
              "    border-bottom-color: var(--fill-color);\n",
              "    animation:\n",
              "      spin 1s steps(1) infinite;\n",
              "  }\n",
              "\n",
              "  @keyframes spin {\n",
              "    0% {\n",
              "      border-color: transparent;\n",
              "      border-bottom-color: var(--fill-color);\n",
              "      border-left-color: var(--fill-color);\n",
              "    }\n",
              "    20% {\n",
              "      border-color: transparent;\n",
              "      border-left-color: var(--fill-color);\n",
              "      border-top-color: var(--fill-color);\n",
              "    }\n",
              "    30% {\n",
              "      border-color: transparent;\n",
              "      border-left-color: var(--fill-color);\n",
              "      border-top-color: var(--fill-color);\n",
              "      border-right-color: var(--fill-color);\n",
              "    }\n",
              "    40% {\n",
              "      border-color: transparent;\n",
              "      border-right-color: var(--fill-color);\n",
              "      border-top-color: var(--fill-color);\n",
              "    }\n",
              "    60% {\n",
              "      border-color: transparent;\n",
              "      border-right-color: var(--fill-color);\n",
              "    }\n",
              "    80% {\n",
              "      border-color: transparent;\n",
              "      border-right-color: var(--fill-color);\n",
              "      border-bottom-color: var(--fill-color);\n",
              "    }\n",
              "    90% {\n",
              "      border-color: transparent;\n",
              "      border-bottom-color: var(--fill-color);\n",
              "    }\n",
              "  }\n",
              "</style>\n",
              "\n",
              "  <script>\n",
              "    async function quickchart(key) {\n",
              "      const quickchartButtonEl =\n",
              "        document.querySelector('#' + key + ' button');\n",
              "      quickchartButtonEl.disabled = true;  // To prevent multiple clicks.\n",
              "      quickchartButtonEl.classList.add('colab-df-spinner');\n",
              "      try {\n",
              "        const charts = await google.colab.kernel.invokeFunction(\n",
              "            'suggestCharts', [key], {});\n",
              "      } catch (error) {\n",
              "        console.error('Error during call to suggestCharts:', error);\n",
              "      }\n",
              "      quickchartButtonEl.classList.remove('colab-df-spinner');\n",
              "      quickchartButtonEl.classList.add('colab-df-quickchart-complete');\n",
              "    }\n",
              "    (() => {\n",
              "      let quickchartButtonEl =\n",
              "        document.querySelector('#df-ed8ba994-56ba-4cb3-81b4-a73742c3e914 button');\n",
              "      quickchartButtonEl.style.display =\n",
              "        google.colab.kernel.accessAllowed ? 'block' : 'none';\n",
              "    })();\n",
              "  </script>\n",
              "</div>\n",
              "    </div>\n",
              "  </div>\n"
            ]
          },
          "metadata": {},
          "execution_count": 23
        }
      ],
      "source": [
        "train_edu = train.groupby('edu_type').count()['index']\n",
        "train_edu = train_edu.reset_index()\n",
        "train_edu"
      ]
    },
    {
      "cell_type": "code",
      "execution_count": 24,
      "id": "6d202257",
      "metadata": {
        "colab": {
          "base_uri": "https://localhost:8080/",
          "height": 472
        },
        "id": "6d202257",
        "outputId": "03fe8aa7-2352-4d73-f888-7c6b86e92698"
      },
      "outputs": [
        {
          "output_type": "display_data",
          "data": {
            "text/plain": [
              "<Figure size 640x480 with 1 Axes>"
            ],
            "image/png": "[encoded data removed]"
          },
          "metadata": {}
        }
      ],
      "source": [
        "sns.barplot(data=train_edu, y=\"edu_type\", x=\"index\", orient='h', palette='Set3')\n",
        "plt.title('Education type')\n",
        "plt.show()"
      ]
    },
    {
      "cell_type": "code",
      "execution_count": 25,
      "id": "59cb4a5a",
      "metadata": {
        "colab": {
          "base_uri": "https://localhost:8080/",
          "height": 472
        },
        "id": "59cb4a5a",
        "outputId": "db1aba2b-14fc-486e-c22b-ef4372c4a383"
      },
      "outputs": [
        {
          "output_type": "display_data",
          "data": {
            "text/plain": [
              "<Figure size 640x480 with 1 Axes>"
            ],
            "image/png": "[encoded data removed]"
          },
          "metadata": {}
        }
      ],
      "source": [
        "# gender별 누적합\n",
        "sns.countplot(data=train, y=\"edu_type\",hue='gender', palette='Set3',dodge=False)\n",
        "plt.legend(loc='lower right')\n",
        "plt.title('Education type')\n",
        "plt.show()"
      ]
    },
    {
      "cell_type": "markdown",
      "id": "3fd2d115",
      "metadata": {
        "id": "3fd2d115"
      },
      "source": [
        "### (6) 결혼 여부"
      ]
    },
    {
      "cell_type": "code",
      "execution_count": 26,
      "id": "a9a0b5cc",
      "metadata": {
        "colab": {
          "base_uri": "https://localhost:8080/",
          "height": 428
        },
        "id": "a9a0b5cc",
        "outputId": "8b8c96bc-b527-4efd-b701-fa1a17788168"
      },
      "outputs": [
        {
          "output_type": "display_data",
          "data": {
            "text/plain": [
              "<Figure size 640x480 with 1 Axes>"
            ],
            "image/png": "[encoded data removed]"
          },
          "metadata": {}
        }
      ],
      "source": [
        "train_family = train.groupby('family_type').count()['index']\n",
        "# my_circle=plt.Circle((0,0),0.7,color='white')\n",
        "fig = plt.figure()\n",
        "plt.pie(train_family,labels=train_family.index, autopct='%1.1f%%', colors=palette)\n",
        "p=plt.gcf()\n",
        "#p.gca().add_artist(my_circle)\n",
        "plt.title('Family type distribution')\n",
        "plt.show()"
      ]
    },
    {
      "cell_type": "markdown",
      "id": "2058105b",
      "metadata": {
        "id": "2058105b"
      },
      "source": [
        "### (7) 연간 소득(income_total)"
      ]
    },
    {
      "cell_type": "code",
      "execution_count": 27,
      "id": "193a436d",
      "metadata": {
        "colab": {
          "base_uri": "https://localhost:8080/",
          "height": 433
        },
        "id": "193a436d",
        "outputId": "ab50ae6a-ef1f-48ac-b177-e6be8a9d020a"
      },
      "outputs": [
        {
          "output_type": "display_data",
          "data": {
            "text/plain": [
              "<Figure size 640x480 with 1 Axes>"
            ],
            "image/png": "[encoded data removed]"
          },
          "metadata": {}
        }
      ],
      "source": [
        "sns.boxplot(data=train,y=\"income_total\", width=0.3, color='#ff9999')\n",
        "plt.title('Annual income distribution')\n",
        "plt.ylim(2000, 600000)\n",
        "plt.show()"
      ]
    },
    {
      "cell_type": "code",
      "execution_count": 28,
      "id": "72d1b9bb",
      "metadata": {
        "colab": {
          "base_uri": "https://localhost:8080/",
          "height": 472
        },
        "id": "72d1b9bb",
        "outputId": "9999cdd6-7442-4943-f67c-d6ae135b4949"
      },
      "outputs": [
        {
          "output_type": "display_data",
          "data": {
            "text/plain": [
              "<Figure size 640x480 with 1 Axes>"
            ],
            "image/png": "[encoded data removed]"
          },
          "metadata": {}
        }
      ],
      "source": [
        "# gender별 income_total\n",
        "sns.boxplot(data=train, y=\"income_total\", x='gender', width=0.3, palette='Set3')\n",
        "plt.title('Annual income distribution by gender')\n",
        "plt.ylim(2000, 600000)\n",
        "plt.show()"
      ]
    },
    {
      "cell_type": "markdown",
      "id": "94797884",
      "metadata": {
        "id": "94797884"
      },
      "source": [
        ">- 여성에 비해 남성의 연간소득이 더 많은 편이다."
      ]
    },
    {
      "cell_type": "markdown",
      "id": "e2fbefa5",
      "metadata": {
        "id": "e2fbefa5"
      },
      "source": [
        "### (8) 카드 발급월(begin_month)"
      ]
    },
    {
      "cell_type": "code",
      "execution_count": 29,
      "id": "ddfc4b28",
      "metadata": {
        "id": "ddfc4b28"
      },
      "outputs": [],
      "source": [
        "train_begin_month = [0 if s >=0 else round(abs(s)/12,2) for s in train['begin_month']]"
      ]
    },
    {
      "cell_type": "code",
      "execution_count": 30,
      "id": "e6696d5a",
      "metadata": {
        "colab": {
          "base_uri": "https://localhost:8080/",
          "height": 529
        },
        "id": "e6696d5a",
        "outputId": "e0b37dde-3484-4e1c-f61c-38300817bc55"
      },
      "outputs": [
        {
          "output_type": "display_data",
          "data": {
            "text/plain": [
              "<Figure size 500x500 with 1 Axes>"
            ],
            "image/png": "[encoded data removed]"
          },
          "metadata": {}
        }
      ],
      "source": [
        "sns.displot(data=train,x=train_begin_month,kind='kde')\n",
        "plt.title('Average Credit Card Issuance Date')\n",
        "plt.show()"
      ]
    },
    {
      "cell_type": "markdown",
      "id": "c1eafc0d",
      "metadata": {
        "id": "c1eafc0d"
      },
      "source": [
        "### (9) 직업 종류(occyp_type)"
      ]
    },
    {
      "cell_type": "code",
      "execution_count": 31,
      "id": "c09540e0",
      "metadata": {
        "colab": {
          "base_uri": "https://localhost:8080/"
        },
        "id": "c09540e0",
        "outputId": "fc7f08b5-b540-4043-9eb1-afd23e18594f"
      },
      "outputs": [
        {
          "output_type": "execute_result",
          "data": {
            "text/plain": [
              "8171"
            ]
          },
          "metadata": {},
          "execution_count": 31
        }
      ],
      "source": [
        "train['occyp_type'].isnull().sum()"
      ]
    },
    {
      "cell_type": "code",
      "execution_count": 32,
      "id": "c8712741",
      "metadata": {
        "colab": {
          "base_uri": "https://localhost:8080/",
          "height": 990
        },
        "id": "c8712741",
        "outputId": "d84f9b18-6b4d-494f-d6d8-f04be9222fe0"
      },
      "outputs": [
        {
          "output_type": "execute_result",
          "data": {
            "text/plain": [
              "[Text(0, 0, 'Accountants'),\n",
              " Text(1, 0, 'Cleaning staff'),\n",
              " Text(2, 0, 'Cooking staff'),\n",
              " Text(3, 0, 'Core staff'),\n",
              " Text(4, 0, 'Drivers'),\n",
              " Text(5, 0, 'HR staff'),\n",
              " Text(6, 0, 'High skill tech staff'),\n",
              " Text(7, 0, 'IT staff'),\n",
              " Text(8, 0, 'Laborers'),\n",
              " Text(9, 0, 'Low-skill Laborers'),\n",
              " Text(10, 0, 'Managers'),\n",
              " Text(11, 0, 'Medicine staff'),\n",
              " Text(12, 0, 'Private service staff'),\n",
              " Text(13, 0, 'Realty agents'),\n",
              " Text(14, 0, 'Sales staff'),\n",
              " Text(15, 0, 'Secretaries'),\n",
              " Text(16, 0, 'Security staff'),\n",
              " Text(17, 0, 'Waiters/barmen staff')]"
            ]
          },
          "metadata": {},
          "execution_count": 32
        },
        {
          "output_type": "display_data",
          "data": {
            "text/plain": [
              "<Figure size 2000x1000 with 1 Axes>"
            ],
            "image/png": "[encoded data removed]"
          },
          "metadata": {}
        }
      ],
      "source": [
        "train_occupation = train.groupby('occyp_type').count()['index']\n",
        "plot = train_occupation.plot(kind='bar',figsize=(20,10))\n",
        "plot.set_xlabel('job_type',fontsize=11)\n",
        "plot.set_ylabel('number',fontsize=11)\n",
        "plot.set_title('job_type',fontsize=13)\n",
        "plot.set_xticklabels(labels=train_occupation.index,rotation=45)"
      ]
    },
    {
      "cell_type": "markdown",
      "id": "16a8f8e7",
      "metadata": {
        "id": "16a8f8e7"
      },
      "source": [
        ">- 직업 종류의 null값이 8171개로 상당히 많이 존재\n",
        ">- 이를 채울 수 있는 방법? 삭제?"
      ]
    },
    {
      "cell_type": "markdown",
      "id": "c038dca8",
      "metadata": {
        "id": "c038dca8"
      },
      "source": [
        "### (10) child_num"
      ]
    },
    {
      "cell_type": "code",
      "execution_count": 33,
      "id": "7aaa3058",
      "metadata": {
        "colab": {
          "base_uri": "https://localhost:8080/",
          "height": 452
        },
        "id": "7aaa3058",
        "outputId": "e1a8e072-31b3-4989-f9ff-bfba5b10cc94"
      },
      "outputs": [
        {
          "output_type": "execute_result",
          "data": {
            "text/plain": [
              "<Axes: >"
            ]
          },
          "metadata": {},
          "execution_count": 33
        },
        {
          "output_type": "display_data",
          "data": {
            "text/plain": [
              "<Figure size 640x480 with 1 Axes>"
            ],
            "image/png": "[encoded data removed]"
          },
          "metadata": {}
        }
      ],
      "source": [
        "train['child_num'].value_counts(sort=False).plot.bar()"
      ]
    },
    {
      "cell_type": "markdown",
      "id": "459ceefe",
      "metadata": {
        "id": "459ceefe"
      },
      "source": [
        "> - 대부분의 자녀수가 2명 이하임"
      ]
    },
    {
      "cell_type": "markdown",
      "id": "9c82bbe3",
      "metadata": {
        "id": "9c82bbe3"
      },
      "source": [
        "### (11) income"
      ]
    },
    {
      "cell_type": "code",
      "execution_count": 34,
      "id": "2197ade5",
      "metadata": {
        "colab": {
          "base_uri": "https://localhost:8080/",
          "height": 448
        },
        "id": "2197ade5",
        "outputId": "09a79e2f-6da5-449a-dcf3-5a4ce61b8f22"
      },
      "outputs": [
        {
          "output_type": "display_data",
          "data": {
            "text/plain": [
              "<Figure size 640x480 with 1 Axes>"
            ],
            "image/png": "[encoded data removed]"
          },
          "metadata": {}
        }
      ],
      "source": [
        "plt.hist(train['income_total'])\n",
        "plt.show()"
      ]
    },
    {
      "cell_type": "markdown",
      "id": "a3069f7b",
      "metadata": {
        "id": "a3069f7b"
      },
      "source": [
        "> - skewed to right : 로그 스케일링이 필요해보임"
      ]
    },
    {
      "cell_type": "markdown",
      "id": "99ef831b",
      "metadata": {
        "id": "99ef831b"
      },
      "source": [
        "### (12) 신용수준(credit) 데이터"
      ]
    },
    {
      "cell_type": "code",
      "execution_count": 35,
      "id": "4dc89a83",
      "metadata": {
        "colab": {
          "base_uri": "https://localhost:8080/",
          "height": 472
        },
        "id": "4dc89a83",
        "outputId": "df39d588-4657-43e4-e524-e946c3f0dd30"
      },
      "outputs": [
        {
          "output_type": "display_data",
          "data": {
            "text/plain": [
              "<Figure size 640x480 with 1 Axes>"
            ],
            "image/png": "[encoded data removed]"
          },
          "metadata": {}
        }
      ],
      "source": [
        "sns.countplot(data=train, x=\"credit\",palette=\"Set3\")\n",
        "plt.title('Credit distribution')\n",
        "plt.show()"
      ]
    },
    {
      "cell_type": "markdown",
      "id": "1fd207cd",
      "metadata": {
        "id": "1fd207cd"
      },
      "source": [
        "> - 신용이 0.0, 1.0, 2.0으로 구성되어 있음(3개의 class)\n",
        "> - 2.0이 가장 많음"
      ]
    },
    {
      "cell_type": "markdown",
      "id": "80669358",
      "metadata": {
        "id": "80669358"
      },
      "source": [
        "# 2. Data Preprocessing\n",
        "### 1) Missing values"
      ]
    },
    {
      "cell_type": "code",
      "execution_count": 36,
      "id": "277077d1",
      "metadata": {
        "colab": {
          "base_uri": "https://localhost:8080/"
        },
        "id": "277077d1",
        "outputId": "7feea483-9541-4fe4-bac3-467e0e62b777"
      },
      "outputs": [
        {
          "output_type": "execute_result",
          "data": {
            "text/plain": [
              "index               0\n",
              "gender              0\n",
              "car                 0\n",
              "reality             0\n",
              "child_num           0\n",
              "income_total        0\n",
              "income_type         0\n",
              "edu_type            0\n",
              "family_type         0\n",
              "house_type          0\n",
              "DAYS_BIRTH          0\n",
              "DAYS_EMPLOYED       0\n",
              "FLAG_MOBIL          0\n",
              "work_phone          0\n",
              "phone               0\n",
              "email               0\n",
              "occyp_type       8171\n",
              "family_size         0\n",
              "begin_month         0\n",
              "credit              0\n",
              "dtype: int64"
            ]
          },
          "metadata": {},
          "execution_count": 36
        }
      ],
      "source": [
        "train.isnull().sum()"
      ]
    },
    {
      "cell_type": "code",
      "execution_count": 37,
      "id": "79a6cce8",
      "metadata": {
        "id": "79a6cce8"
      },
      "outputs": [],
      "source": [
        "train=train.drop('occyp_type', axis=1)\n",
        "test=test.drop('occyp_type', axis=1)"
      ]
    },
    {
      "cell_type": "markdown",
      "id": "94d4cc20",
      "metadata": {
        "id": "94d4cc20"
      },
      "source": [
        "### 2) Label encoding for Binary variables"
      ]
    },
    {
      "cell_type": "code",
      "execution_count": 38,
      "id": "2351ad98",
      "metadata": {
        "id": "2351ad98"
      },
      "outputs": [],
      "source": [
        "# label encoding\n",
        "from sklearn.preprocessing import LabelEncoder\n",
        "le = LabelEncoder()\n",
        "train['gender'] = le.fit_transform(train['gender'])\n",
        "test['gender'] = le.fit_transform(test['gender'])\n",
        "\n",
        "train['car'] = le.fit_transform(train['car'])\n",
        "test['car'] = le.fit_transform(test['car'])\n",
        "\n",
        "train['reality'] = le.fit_transform(train['reality'])\n",
        "test['reality'] = le.fit_transform(test['reality'])\n",
        "\n",
        "train['phone'] = le.fit_transform(train['phone'])\n",
        "test['phone'] = le.fit_transform(test['phone'])\n",
        "\n",
        "train['email'] = le.fit_transform(train['email'])\n",
        "test['email'] = le.fit_transform(test['email'])\n",
        "\n",
        "train['work_phone'] = le.fit_transform(train['work_phone'])\n",
        "test['work_phone'] = le.fit_transform(test['work_phone'])"
      ]
    },
    {
      "cell_type": "code",
      "execution_count": 39,
      "id": "26b8eac3",
      "metadata": {
        "colab": {
          "base_uri": "https://localhost:8080/",
          "height": 382
        },
        "id": "26b8eac3",
        "outputId": "c2fcc578-d3ff-441b-8fbc-87ddb4c568cb"
      },
      "outputs": [
        {
          "output_type": "execute_result",
          "data": {
            "text/plain": [
              "   index  gender  car  reality  child_num  income_total           income_type  \\\n",
              "0      0       0    0        0          0      202500.0  Commercial associate   \n",
              "1      1       0    0        1          1      247500.0  Commercial associate   \n",
              "2      2       1    1        1          0      450000.0               Working   \n",
              "3      3       0    0        1          0      202500.0  Commercial associate   \n",
              "4      4       0    1        1          0      157500.0         State servant   \n",
              "\n",
              "                        edu_type     family_type           house_type  \\\n",
              "0               Higher education         Married  Municipal apartment   \n",
              "1  Secondary / secondary special  Civil marriage    House / apartment   \n",
              "2               Higher education         Married    House / apartment   \n",
              "3  Secondary / secondary special         Married    House / apartment   \n",
              "4               Higher education         Married    House / apartment   \n",
              "\n",
              "   DAYS_BIRTH  DAYS_EMPLOYED  FLAG_MOBIL  work_phone  phone  email  \\\n",
              "0      -13899          -4709           1           0      0      0   \n",
              "1      -11380          -1540           1           0      0      1   \n",
              "2      -19087          -4434           1           0      1      0   \n",
              "3      -15088          -2092           1           0      1      0   \n",
              "4      -15037          -2105           1           0      0      0   \n",
              "\n",
              "   family_size  begin_month  credit  \n",
              "0          2.0         -6.0     1.0  \n",
              "1          3.0         -5.0     1.0  \n",
              "2          2.0        -22.0     2.0  \n",
              "3          2.0        -37.0     0.0  \n",
              "4          2.0        -26.0     2.0  "
            ],
            "text/html": [
              "\n",
              "  <div id=\"df-9faa52fc-cbd7-4015-8aa9-97f212b288f6\" class=\"colab-df-container\">\n",
              "    <div>\n",
              "<style scoped>\n",
              "    .dataframe tbody tr th:only-of-type {\n",
              "        vertical-align: middle;\n",
              "    }\n",
              "\n",
              "    .dataframe tbody tr th {\n",
              "        vertical-align: top;\n",
              "    }\n",
              "\n",
              "    .dataframe thead th {\n",
              "        text-align: right;\n",
              "    }\n",
              "</style>\n",
              "<table border=\"1\" class=\"dataframe\">\n",
              "  <thead>\n",
              "    <tr style=\"text-align: right;\">\n",
              "      <th></th>\n",
              "      <th>index</th>\n",
              "      <th>gender</th>\n",
              "      <th>car</th>\n",
              "      <th>reality</th>\n",
              "      <th>child_num</th>\n",
              "      <th>income_total</th>\n",
              "      <th>income_type</th>\n",
              "      <th>edu_type</th>\n",
              "      <th>family_type</th>\n",
              "      <th>house_type</th>\n",
              "      <th>DAYS_BIRTH</th>\n",
              "      <th>DAYS_EMPLOYED</th>\n",
              "      <th>FLAG_MOBIL</th>\n",
              "      <th>work_phone</th>\n",
              "      <th>phone</th>\n",
              "      <th>email</th>\n",
              "      <th>family_size</th>\n",
              "      <th>begin_month</th>\n",
              "      <th>credit</th>\n",
              "    </tr>\n",
              "  </thead>\n",
              "  <tbody>\n",
              "    <tr>\n",
              "      <th>0</th>\n",
              "      <td>0</td>\n",
              "      <td>0</td>\n",
              "      <td>0</td>\n",
              "      <td>0</td>\n",
              "      <td>0</td>\n",
              "      <td>202500.0</td>\n",
              "      <td>Commercial associate</td>\n",
              "      <td>Higher education</td>\n",
              "      <td>Married</td>\n",
              "      <td>Municipal apartment</td>\n",
              "      <td>-13899</td>\n",
              "      <td>-4709</td>\n",
              "      <td>1</td>\n",
              "      <td>0</td>\n",
              "      <td>0</td>\n",
              "      <td>0</td>\n",
              "      <td>2.0</td>\n",
              "      <td>-6.0</td>\n",
              "      <td>1.0</td>\n",
              "    </tr>\n",
              "    <tr>\n",
              "      <th>1</th>\n",
              "      <td>1</td>\n",
              "      <td>0</td>\n",
              "      <td>0</td>\n",
              "      <td>1</td>\n",
              "      <td>1</td>\n",
              "      <td>247500.0</td>\n",
              "      <td>Commercial associate</td>\n",
              "      <td>Secondary / secondary special</td>\n",
              "      <td>Civil marriage</td>\n",
              "      <td>House / apartment</td>\n",
              "      <td>-11380</td>\n",
              "      <td>-1540</td>\n",
              "      <td>1</td>\n",
              "      <td>0</td>\n",
              "      <td>0</td>\n",
              "      <td>1</td>\n",
              "      <td>3.0</td>\n",
              "      <td>-5.0</td>\n",
              "      <td>1.0</td>\n",
              "    </tr>\n",
              "    <tr>\n",
              "      <th>2</th>\n",
              "      <td>2</td>\n",
              "      <td>1</td>\n",
              "      <td>1</td>\n",
              "      <td>1</td>\n",
              "      <td>0</td>\n",
              "      <td>450000.0</td>\n",
              "      <td>Working</td>\n",
              "      <td>Higher education</td>\n",
              "      <td>Married</td>\n",
              "      <td>House / apartment</td>\n",
              "      <td>-19087</td>\n",
              "      <td>-4434</td>\n",
              "      <td>1</td>\n",
              "      <td>0</td>\n",
              "      <td>1</td>\n",
              "      <td>0</td>\n",
              "      <td>2.0</td>\n",
              "      <td>-22.0</td>\n",
              "      <td>2.0</td>\n",
              "    </tr>\n",
              "    <tr>\n",
              "      <th>3</th>\n",
              "      <td>3</td>\n",
              "      <td>0</td>\n",
              "      <td>0</td>\n",
              "      <td>1</td>\n",
              "      <td>0</td>\n",
              "      <td>202500.0</td>\n",
              "      <td>Commercial associate</td>\n",
              "      <td>Secondary / secondary special</td>\n",
              "      <td>Married</td>\n",
              "      <td>House / apartment</td>\n",
              "      <td>-15088</td>\n",
              "      <td>-2092</td>\n",
              "      <td>1</td>\n",
              "      <td>0</td>\n",
              "      <td>1</td>\n",
              "      <td>0</td>\n",
              "      <td>2.0</td>\n",
              "      <td>-37.0</td>\n",
              "      <td>0.0</td>\n",
              "    </tr>\n",
              "    <tr>\n",
              "      <th>4</th>\n",
              "      <td>4</td>\n",
              "      <td>0</td>\n",
              "      <td>1</td>\n",
              "      <td>1</td>\n",
              "      <td>0</td>\n",
              "      <td>157500.0</td>\n",
              "      <td>State servant</td>\n",
              "      <td>Higher education</td>\n",
              "      <td>Married</td>\n",
              "      <td>House / apartment</td>\n",
              "      <td>-15037</td>\n",
              "      <td>-2105</td>\n",
              "      <td>1</td>\n",
              "      <td>0</td>\n",
              "      <td>0</td>\n",
              "      <td>0</td>\n",
              "      <td>2.0</td>\n",
              "      <td>-26.0</td>\n",
              "      <td>2.0</td>\n",
              "    </tr>\n",
              "  </tbody>\n",
              "</table>\n",
              "</div>\n",
              "    <div class=\"colab-df-buttons\">\n",
              "\n",
              "  <div class=\"colab-df-container\">\n",
              "    <button class=\"colab-df-convert\" onclick=\"convertToInteractive('df-9faa52fc-cbd7-4015-8aa9-97f212b288f6')\"\n",
              "            title=\"Convert this dataframe to an interactive table.\"\n",
              "            style=\"display:none;\">\n",
              "\n",
              "  <svg xmlns=\"http://www.w3.org/2000/svg\" height=\"24px\" viewBox=\"0 -960 960 960\">\n",
              "    <path d=\"M120-120v-720h720v720H120Zm60-500h600v-160H180v160Zm220 220h160v-160H400v160Zm0 220h160v-160H400v160ZM180-400h160v-160H180v160Zm440 0h160v-160H620v160ZM180-180h160v-160H180v160Zm440 0h160v-160H620v160Z\"/>\n",
              "  </svg>\n",
              "    </button>\n",
              "\n",
              "  <style>\n",
              "    .colab-df-container {\n",
              "      display:flex;\n",
              "      gap: 12px;\n",
              "    }\n",
              "\n",
              "    .colab-df-convert {\n",
              "      background-color: #E8F0FE;\n",
              "      border: none;\n",
              "      border-radius: 50%;\n",
              "      cursor: pointer;\n",
              "      display: none;\n",
              "      fill: #1967D2;\n",
              "      height: 32px;\n",
              "      padding: 0 0 0 0;\n",
              "      width: 32px;\n",
              "    }\n",
              "\n",
              "    .colab-df-convert:hover {\n",
              "      background-color: #E2EBFA;\n",
              "      box-shadow: 0px 1px 2px rgba(60, 64, 67, 0.3), 0px 1px 3px 1px rgba(60, 64, 67, 0.15);\n",
              "      fill: #174EA6;\n",
              "    }\n",
              "\n",
              "    .colab-df-buttons div {\n",
              "      margin-bottom: 4px;\n",
              "    }\n",
              "\n",
              "    [theme=dark] .colab-df-convert {\n",
              "      background-color: #3B4455;\n",
              "      fill: #D2E3FC;\n",
              "    }\n",
              "\n",
              "    [theme=dark] .colab-df-convert:hover {\n",
              "      background-color: #434B5C;\n",
              "      box-shadow: 0px 1px 3px 1px rgba(0, 0, 0, 0.15);\n",
              "      filter: drop-shadow(0px 1px 2px rgba(0, 0, 0, 0.3));\n",
              "      fill: #FFFFFF;\n",
              "    }\n",
              "  </style>\n",
              "\n",
              "    <script>\n",
              "      const buttonEl =\n",
              "        document.querySelector('#df-9faa52fc-cbd7-4015-8aa9-97f212b288f6 button.colab-df-convert');\n",
              "      buttonEl.style.display =\n",
              "        google.colab.kernel.accessAllowed ? 'block' : 'none';\n",
              "\n",
              "      async function convertToInteractive(key) {\n",
              "        const element = document.querySelector('#df-9faa52fc-cbd7-4015-8aa9-97f212b288f6');\n",
              "        const dataTable =\n",
              "          await google.colab.kernel.invokeFunction('convertToInteractive',\n",
              "                                                    [key], {});\n",
              "        if (!dataTable) return;\n",
              "\n",
              "        const docLinkHtml = 'Like what you see? Visit the ' +\n",
              "          '<a target=\"_blank\" href=https://colab.research.google.com/notebooks/data_table.ipynb>data table notebook</a>'\n",
              "          + ' to learn more about interactive tables.';\n",
              "        element.innerHTML = '';\n",
              "        dataTable['output_type'] = 'display_data';\n",
              "        await google.colab.output.renderOutput(dataTable, element);\n",
              "        const docLink = document.createElement('div');\n",
              "        docLink.innerHTML = docLinkHtml;\n",
              "        element.appendChild(docLink);\n",
              "      }\n",
              "    </script>\n",
              "  </div>\n",
              "\n",
              "\n",
              "<div id=\"df-06c6f884-07a7-4ec8-80e8-b60ec1da7c12\">\n",
              "  <button class=\"colab-df-quickchart\" onclick=\"quickchart('df-06c6f884-07a7-4ec8-80e8-b60ec1da7c12')\"\n",
              "            title=\"Suggest charts.\"\n",
              "            style=\"display:none;\">\n",
              "\n",
              "<svg xmlns=\"http://www.w3.org/2000/svg\" height=\"24px\"viewBox=\"0 0 24 24\"\n",
              "     width=\"24px\">\n",
              "    <g>\n",
              "        <path d=\"M19 3H5c-1.1 0-2 .9-2 2v14c0 1.1.9 2 2 2h14c1.1 0 2-.9 2-2V5c0-1.1-.9-2-2-2zM9 17H7v-7h2v7zm4 0h-2V7h2v10zm4 0h-2v-4h2v4z\"/>\n",
              "    </g>\n",
              "</svg>\n",
              "  </button>\n",
              "\n",
              "<style>\n",
              "  .colab-df-quickchart {\n",
              "      --bg-color: #E8F0FE;\n",
              "      --fill-color: #1967D2;\n",
              "      --hover-bg-color: #E2EBFA;\n",
              "      --hover-fill-color: #174EA6;\n",
              "      --disabled-fill-color: #AAA;\n",
              "      --disabled-bg-color: #DDD;\n",
              "  }\n",
              "\n",
              "  [theme=dark] .colab-df-quickchart {\n",
              "      --bg-color: #3B4455;\n",
              "      --fill-color: #D2E3FC;\n",
              "      --hover-bg-color: #434B5C;\n",
              "      --hover-fill-color: #FFFFFF;\n",
              "      --disabled-bg-color: #3B4455;\n",
              "      --disabled-fill-color: #666;\n",
              "  }\n",
              "\n",
              "  .colab-df-quickchart {\n",
              "    background-color: var(--bg-color);\n",
              "    border: none;\n",
              "    border-radius: 50%;\n",
              "    cursor: pointer;\n",
              "    display: none;\n",
              "    fill: var(--fill-color);\n",
              "    height: 32px;\n",
              "    padding: 0;\n",
              "    width: 32px;\n",
              "  }\n",
              "\n",
              "  .colab-df-quickchart:hover {\n",
              "    background-color: var(--hover-bg-color);\n",
              "    box-shadow: 0 1px 2px rgba(60, 64, 67, 0.3), 0 1px 3px 1px rgba(60, 64, 67, 0.15);\n",
              "    fill: var(--button-hover-fill-color);\n",
              "  }\n",
              "\n",
              "  .colab-df-quickchart-complete:disabled,\n",
              "  .colab-df-quickchart-complete:disabled:hover {\n",
              "    background-color: var(--disabled-bg-color);\n",
              "    fill: var(--disabled-fill-color);\n",
              "    box-shadow: none;\n",
              "  }\n",
              "\n",
              "  .colab-df-spinner {\n",
              "    border: 2px solid var(--fill-color);\n",
              "    border-color: transparent;\n",
              "    border-bottom-color: var(--fill-color);\n",
              "    animation:\n",
              "      spin 1s steps(1) infinite;\n",
              "  }\n",
              "\n",
              "  @keyframes spin {\n",
              "    0% {\n",
              "      border-color: transparent;\n",
              "      border-bottom-color: var(--fill-color);\n",
              "      border-left-color: var(--fill-color);\n",
              "    }\n",
              "    20% {\n",
              "      border-color: transparent;\n",
              "      border-left-color: var(--fill-color);\n",
              "      border-top-color: var(--fill-color);\n",
              "    }\n",
              "    30% {\n",
              "      border-color: transparent;\n",
              "      border-left-color: var(--fill-color);\n",
              "      border-top-color: var(--fill-color);\n",
              "      border-right-color: var(--fill-color);\n",
              "    }\n",
              "    40% {\n",
              "      border-color: transparent;\n",
              "      border-right-color: var(--fill-color);\n",
              "      border-top-color: var(--fill-color);\n",
              "    }\n",
              "    60% {\n",
              "      border-color: transparent;\n",
              "      border-right-color: var(--fill-color);\n",
              "    }\n",
              "    80% {\n",
              "      border-color: transparent;\n",
              "      border-right-color: var(--fill-color);\n",
              "      border-bottom-color: var(--fill-color);\n",
              "    }\n",
              "    90% {\n",
              "      border-color: transparent;\n",
              "      border-bottom-color: var(--fill-color);\n",
              "    }\n",
              "  }\n",
              "</style>\n",
              "\n",
              "  <script>\n",
              "    async function quickchart(key) {\n",
              "      const quickchartButtonEl =\n",
              "        document.querySelector('#' + key + ' button');\n",
              "      quickchartButtonEl.disabled = true;  // To prevent multiple clicks.\n",
              "      quickchartButtonEl.classList.add('colab-df-spinner');\n",
              "      try {\n",
              "        const charts = await google.colab.kernel.invokeFunction(\n",
              "            'suggestCharts', [key], {});\n",
              "      } catch (error) {\n",
              "        console.error('Error during call to suggestCharts:', error);\n",
              "      }\n",
              "      quickchartButtonEl.classList.remove('colab-df-spinner');\n",
              "      quickchartButtonEl.classList.add('colab-df-quickchart-complete');\n",
              "    }\n",
              "    (() => {\n",
              "      let quickchartButtonEl =\n",
              "        document.querySelector('#df-06c6f884-07a7-4ec8-80e8-b60ec1da7c12 button');\n",
              "      quickchartButtonEl.style.display =\n",
              "        google.colab.kernel.accessAllowed ? 'block' : 'none';\n",
              "    })();\n",
              "  </script>\n",
              "</div>\n",
              "    </div>\n",
              "  </div>\n"
            ]
          },
          "metadata": {},
          "execution_count": 39
        }
      ],
      "source": [
        "train.head()"
      ]
    },
    {
      "cell_type": "markdown",
      "id": "db8adba0",
      "metadata": {
        "id": "db8adba0"
      },
      "source": [
        "> 각각 binary variable의 label encoding이 적절하게 되었다."
      ]
    },
    {
      "cell_type": "markdown",
      "id": "850cdf7d",
      "metadata": {
        "id": "850cdf7d"
      },
      "source": [
        "### 3) Outlier: child_num\n",
        "- child_num이 2 이상인 변수들은 child_num = 2로 지정"
      ]
    },
    {
      "cell_type": "code",
      "execution_count": 40,
      "id": "8a35fe04",
      "metadata": {
        "id": "8a35fe04"
      },
      "outputs": [],
      "source": [
        "train.loc[train['child_num'] >= 2,'child_num']=2\n",
        "test.loc[test['child_num']>=2, 'child_num']=2"
      ]
    },
    {
      "cell_type": "markdown",
      "id": "35801210",
      "metadata": {
        "id": "35801210"
      },
      "source": [
        "### 4) Continuous variables"
      ]
    },
    {
      "cell_type": "markdown",
      "id": "b9a133cb",
      "metadata": {
        "id": "b9a133cb"
      },
      "source": [
        "#### (1) income"
      ]
    },
    {
      "cell_type": "code",
      "execution_count": 41,
      "id": "c8fc7ea8",
      "metadata": {
        "scrolled": false,
        "colab": {
          "base_uri": "https://localhost:8080/",
          "height": 54
        },
        "id": "c8fc7ea8",
        "outputId": "21f9d68b-e4ec-4cd8-dca2-af959f6e1e2d"
      },
      "outputs": [
        {
          "output_type": "execute_result",
          "data": {
            "text/plain": [
              "\"\\ntrain['income_total'] = train['income_total'].astype(object)\\ntrain['income_total'] = train['income_total']/10000 \\ntest['income_total'] = test['income_total']/10000\\n\""
            ],
            "application/vnd.google.colaboratory.intrinsic+json": {
              "type": "string"
            }
          },
          "metadata": {},
          "execution_count": 41
        }
      ],
      "source": [
        "'''\n",
        "train['income_total'] = train['income_total'].astype(object)\n",
        "train['income_total'] = train['income_total']/10000\n",
        "test['income_total'] = test['income_total']/10000\n",
        "'''"
      ]
    },
    {
      "cell_type": "code",
      "execution_count": 42,
      "id": "019efa1d",
      "metadata": {
        "id": "019efa1d"
      },
      "outputs": [],
      "source": [
        "# income의 data가 치우쳐져 있으므로 log scale 적용\n",
        "train['income_total'] = np.log1p(1+train['income_total'])"
      ]
    },
    {
      "cell_type": "code",
      "execution_count": 43,
      "id": "ff19bd35",
      "metadata": {
        "id": "ff19bd35"
      },
      "outputs": [],
      "source": [
        "test['income_total'] = np.log1p(1+test['income_total'])"
      ]
    },
    {
      "cell_type": "markdown",
      "id": "b223ca79",
      "metadata": {
        "id": "b223ca79"
      },
      "source": [
        "#### (2) Label Encoding: Type 변수"
      ]
    },
    {
      "cell_type": "code",
      "execution_count": 44,
      "id": "8bd30600",
      "metadata": {
        "colab": {
          "base_uri": "https://localhost:8080/"
        },
        "id": "8bd30600",
        "outputId": "5a442b90-05ab-4c6a-f698-c005f23a8a6b"
      },
      "outputs": [
        {
          "output_type": "stream",
          "name": "stdout",
          "text": [
            "['Commercial associate' 'Working' 'State servant' 'Pensioner' 'Student']\n",
            "['Higher education' 'Secondary / secondary special' 'Incomplete higher'\n",
            " 'Lower secondary' 'Academic degree']\n",
            "['Married' 'Civil marriage' 'Separated' 'Single / not married' 'Widow']\n",
            "['Municipal apartment' 'House / apartment' 'With parents'\n",
            " 'Co-op apartment' 'Rented apartment' 'Office apartment']\n"
          ]
        }
      ],
      "source": [
        "print(train['income_type'].unique())\n",
        "print(train['edu_type'].unique())\n",
        "print(train['family_type'].unique())\n",
        "print(train['house_type'].unique())"
      ]
    },
    {
      "cell_type": "code",
      "execution_count": 45,
      "id": "d897a2aa",
      "metadata": {
        "id": "d897a2aa"
      },
      "outputs": [],
      "source": [
        "from sklearn import preprocessing\n",
        "label_encoder=preprocessing.LabelEncoder()\n",
        "train['income_type']=label_encoder.fit_transform(train['income_type'])\n",
        "test['income_type']=label_encoder.transform(test['income_type'])\n",
        "\n",
        "train['edu_type']=label_encoder.fit_transform(train['edu_type'])\n",
        "test['edu_type']=label_encoder.transform(test['edu_type'])\n",
        "\n",
        "train['family_type']=label_encoder.fit_transform(train['family_type'])\n",
        "test['family_type']=label_encoder.transform(test['family_type'])\n",
        "\n",
        "train['house_type']=label_encoder.fit_transform(train['house_type'])\n",
        "test['house_type']=label_encoder.transform(test['house_type'])\n",
        "\n",
        "train['income_total']=label_encoder.fit_transform(train['income_total'])\n",
        "test['income_total']=label_encoder.fit_transform(test['income_total'])"
      ]
    },
    {
      "cell_type": "markdown",
      "id": "1e3fe2ac",
      "metadata": {
        "id": "1e3fe2ac"
      },
      "source": [
        "#### (3) Minus continuous variable\n",
        "- abs 함수 사용"
      ]
    },
    {
      "cell_type": "code",
      "execution_count": 46,
      "id": "b6ed544c",
      "metadata": {
        "id": "b6ed544c"
      },
      "outputs": [],
      "source": [
        "feats = ['DAYS_BIRTH', 'begin_month', 'DAYS_EMPLOYED']\n",
        "for feat in feats:\n",
        "    train[feat]=np.abs(train[feat])\n",
        "    test[feat]=np.abs(test[feat])"
      ]
    },
    {
      "cell_type": "markdown",
      "id": "cdaccade",
      "metadata": {
        "id": "cdaccade"
      },
      "source": [
        "### 5) 의미없는 변수 제거\n",
        "- index\n",
        "- FLAG_MOBIL: 모든 값이 1로 동일"
      ]
    },
    {
      "cell_type": "code",
      "execution_count": 47,
      "id": "e6e3dd97",
      "metadata": {
        "id": "e6e3dd97"
      },
      "outputs": [],
      "source": [
        "train.drop(['index', 'FLAG_MOBIL'], axis=1, inplace=True)\n",
        "test.drop(['index', 'FLAG_MOBIL'], axis=1, inplace=True)"
      ]
    },
    {
      "cell_type": "markdown",
      "id": "627ab262",
      "metadata": {
        "id": "627ab262"
      },
      "source": [
        "### 6) Correlation between variables"
      ]
    },
    {
      "cell_type": "code",
      "execution_count": 48,
      "id": "789d4eef",
      "metadata": {
        "colab": {
          "base_uri": "https://localhost:8080/",
          "height": 875
        },
        "id": "789d4eef",
        "outputId": "229bbaef-5876-4916-f122-72b9336c9013"
      },
      "outputs": [
        {
          "output_type": "execute_result",
          "data": {
            "text/plain": [
              "<Axes: >"
            ]
          },
          "metadata": {},
          "execution_count": 48
        },
        {
          "output_type": "display_data",
          "data": {
            "text/plain": [
              "<Figure size 1200x900 with 2 Axes>"
            ],
            "image/png": "[encoded data removed]"
          },
          "metadata": {}
        }
      ],
      "source": [
        "import matplotlib.pyplot as plt\n",
        "import seaborn as sns\n",
        "#Correlation map to see how features are correlated with SalePrice\n",
        "corrmat = train.corr()\n",
        "plt.subplots(figsize=(12,9))\n",
        "sns.heatmap(corrmat, vmax=0.9, square=True)"
      ]
    },
    {
      "cell_type": "code",
      "execution_count": 49,
      "id": "c976ab4d",
      "metadata": {
        "colab": {
          "base_uri": "https://localhost:8080/"
        },
        "id": "c976ab4d",
        "outputId": "7c51c7c9-24d4-4e8c-c85d-165dbd500902"
      },
      "outputs": [
        {
          "output_type": "stream",
          "name": "stdout",
          "text": [
            "                 gender       car   reality  child_num  income_total  \\\n",
            "gender         1.000000  0.362320 -0.048927   0.082306      0.236999   \n",
            "car            0.362320  1.000000 -0.016599   0.105201      0.233500   \n",
            "reality       -0.048927 -0.016599  1.000000  -0.004181      0.031489   \n",
            "child_num      0.082306  0.105201 -0.004181   1.000000      0.039099   \n",
            "income_total   0.236999  0.233500  0.031489   0.039099      1.000000   \n",
            "income_type    0.103083  0.048361 -0.048468   0.108831     -0.060659   \n",
            "edu_type       0.006351 -0.105567  0.011535  -0.060029     -0.226699   \n",
            "family_type   -0.101969 -0.124280  0.028144  -0.175368      0.001247   \n",
            "house_type     0.067437  0.018617 -0.177957   0.030583     -0.001639   \n",
            "DAYS_BIRTH    -0.201138 -0.156883  0.130241  -0.357828     -0.101642   \n",
            "DAYS_EMPLOYED -0.176697 -0.161427  0.098026  -0.245963     -0.202144   \n",
            "work_phone     0.064316  0.026124 -0.208648   0.054905     -0.046105   \n",
            "phone         -0.027078 -0.013730 -0.065553  -0.010038     -0.002254   \n",
            "email          0.000108  0.018904  0.051085   0.021323      0.088250   \n",
            "family_size    0.111060  0.149463 -0.006667   0.860830      0.020543   \n",
            "begin_month   -0.007707  0.029955 -0.003863   0.007975      0.025829   \n",
            "credit         0.001562  0.007761 -0.009387   0.003441      0.004625   \n",
            "\n",
            "               income_type  edu_type  family_type  house_type  DAYS_BIRTH  \\\n",
            "gender            0.103083  0.006351    -0.101969    0.067437   -0.201138   \n",
            "car               0.048361 -0.105567    -0.124280    0.018617   -0.156883   \n",
            "reality          -0.048468  0.011535     0.028144   -0.177957    0.130241   \n",
            "child_num         0.108831 -0.060029    -0.175368    0.030583   -0.357828   \n",
            "income_total     -0.060659 -0.226699     0.001247   -0.001639   -0.101642   \n",
            "income_type       1.000000  0.056688    -0.050790    0.033013   -0.211466   \n",
            "edu_type          0.056688  1.000000     0.008717   -0.039668    0.166666   \n",
            "family_type      -0.050790  0.008717     1.000000    0.007189    0.104556   \n",
            "house_type        0.033013 -0.039668     0.007189    1.000000   -0.210021   \n",
            "DAYS_BIRTH       -0.211466  0.166666     0.104556   -0.210021    1.000000   \n",
            "DAYS_EMPLOYED    -0.360003  0.122118     0.125194   -0.108163    0.625053   \n",
            "work_phone        0.161857 -0.023778    -0.065483    0.031381   -0.178752   \n",
            "phone             0.004436 -0.045179    -0.014388   -0.019003    0.029247   \n",
            "email            -0.020060 -0.095640    -0.015427    0.013517   -0.111238   \n",
            "family_size       0.107698 -0.041345    -0.545149    0.005010   -0.298108   \n",
            "begin_month      -0.002750 -0.013824    -0.030711   -0.030556    0.057306   \n",
            "credit           -0.008163  0.013780    -0.005230   -0.009023    0.025187   \n",
            "\n",
            "               DAYS_EMPLOYED  work_phone     phone     email  family_size  \\\n",
            "gender             -0.176697    0.064316 -0.027078  0.000108     0.111060   \n",
            "car                -0.161427    0.026124 -0.013730  0.018904     0.149463   \n",
            "reality             0.098026   -0.208648 -0.065553  0.051085    -0.006667   \n",
            "child_num          -0.245963    0.054905 -0.010038  0.021323     0.860830   \n",
            "income_total       -0.202144   -0.046105 -0.002254  0.088250     0.020543   \n",
            "income_type        -0.360003    0.161857  0.004436 -0.020060     0.107698   \n",
            "edu_type            0.122118   -0.023778 -0.045179 -0.095640    -0.041345   \n",
            "family_type         0.125194   -0.065483 -0.014388 -0.015427    -0.545149   \n",
            "house_type         -0.108163    0.031381 -0.019003  0.013517     0.005010   \n",
            "DAYS_BIRTH          0.625053   -0.178752  0.029247 -0.111238    -0.298108   \n",
            "DAYS_EMPLOYED       1.000000   -0.241552 -0.006396 -0.092315    -0.224379   \n",
            "work_phone         -0.241552    1.000000  0.310256 -0.031048     0.068705   \n",
            "phone              -0.006396    0.310256  1.000000  0.012494    -0.000132   \n",
            "email              -0.092315   -0.031048  0.012494  1.000000     0.016122   \n",
            "family_size        -0.224379    0.068705 -0.000132  0.016122     1.000000   \n",
            "begin_month        -0.005188    0.008563  0.014286 -0.002320     0.023032   \n",
            "credit             -0.003055   -0.003134  0.003452  0.014812     0.008227   \n",
            "\n",
            "               begin_month    credit  \n",
            "gender           -0.007707  0.001562  \n",
            "car               0.029955  0.007761  \n",
            "reality          -0.003863 -0.009387  \n",
            "child_num         0.007975  0.003441  \n",
            "income_total      0.025829  0.004625  \n",
            "income_type      -0.002750 -0.008163  \n",
            "edu_type         -0.013824  0.013780  \n",
            "family_type      -0.030711 -0.005230  \n",
            "house_type       -0.030556 -0.009023  \n",
            "DAYS_BIRTH        0.057306  0.025187  \n",
            "DAYS_EMPLOYED    -0.005188 -0.003055  \n",
            "work_phone        0.008563 -0.003134  \n",
            "phone             0.014286  0.003452  \n",
            "email            -0.002320  0.014812  \n",
            "family_size       0.023032  0.008227  \n",
            "begin_month       1.000000  0.147477  \n",
            "credit            0.147477  1.000000  \n"
          ]
        }
      ],
      "source": [
        "correlation_matrix = train.corr()\n",
        "\n",
        "# 상관계수 행렬 출력\n",
        "print(correlation_matrix)"
      ]
    },
    {
      "cell_type": "code",
      "execution_count": 50,
      "id": "bcd085fa",
      "metadata": {
        "colab": {
          "base_uri": "https://localhost:8080/"
        },
        "id": "bcd085fa",
        "outputId": "bb5a967d-bfe6-42ff-928a-65d29384af2c"
      },
      "outputs": [
        {
          "output_type": "stream",
          "name": "stdout",
          "text": [
            "<class 'pandas.core.frame.DataFrame'>\n",
            "RangeIndex: 26457 entries, 0 to 26456\n",
            "Data columns (total 16 columns):\n",
            " #   Column         Non-Null Count  Dtype  \n",
            "---  ------         --------------  -----  \n",
            " 0   gender         26457 non-null  int64  \n",
            " 1   car            26457 non-null  int64  \n",
            " 2   reality        26457 non-null  int64  \n",
            " 3   child_num      26457 non-null  int64  \n",
            " 4   income_total   26457 non-null  int64  \n",
            " 5   income_type    26457 non-null  int64  \n",
            " 6   edu_type       26457 non-null  int64  \n",
            " 7   family_type    26457 non-null  int64  \n",
            " 8   house_type     26457 non-null  int64  \n",
            " 9   DAYS_BIRTH     26457 non-null  int64  \n",
            " 10  DAYS_EMPLOYED  26457 non-null  int64  \n",
            " 11  work_phone     26457 non-null  int64  \n",
            " 12  phone          26457 non-null  int64  \n",
            " 13  email          26457 non-null  int64  \n",
            " 14  begin_month    26457 non-null  float64\n",
            " 15  credit         26457 non-null  float64\n",
            "dtypes: float64(2), int64(14)\n",
            "memory usage: 3.2 MB\n"
          ]
        }
      ],
      "source": [
        "# family_size & child_num이 0.89로 높은 상관계수 -> family_size 제거\n",
        "train = train.drop('family_size', axis = 1)\n",
        "test = test.drop('family_size', axis = 1)\n",
        "train.info()"
      ]
    },
    {
      "cell_type": "code",
      "execution_count": 51,
      "id": "8c247997",
      "metadata": {
        "colab": {
          "base_uri": "https://localhost:8080/"
        },
        "id": "8c247997",
        "outputId": "f0226303-8125-4b97-85fc-7ecf2a23a9f4"
      },
      "outputs": [
        {
          "output_type": "stream",
          "name": "stdout",
          "text": [
            "<class 'pandas.core.frame.DataFrame'>\n",
            "RangeIndex: 10000 entries, 0 to 9999\n",
            "Data columns (total 15 columns):\n",
            " #   Column         Non-Null Count  Dtype  \n",
            "---  ------         --------------  -----  \n",
            " 0   gender         10000 non-null  int64  \n",
            " 1   car            10000 non-null  int64  \n",
            " 2   reality        10000 non-null  int64  \n",
            " 3   child_num      10000 non-null  int64  \n",
            " 4   income_total   10000 non-null  int64  \n",
            " 5   income_type    10000 non-null  int64  \n",
            " 6   edu_type       10000 non-null  int64  \n",
            " 7   family_type    10000 non-null  int64  \n",
            " 8   house_type     10000 non-null  int64  \n",
            " 9   DAYS_BIRTH     10000 non-null  int64  \n",
            " 10  DAYS_EMPLOYED  10000 non-null  int64  \n",
            " 11  work_phone     10000 non-null  int64  \n",
            " 12  phone          10000 non-null  int64  \n",
            " 13  email          10000 non-null  int64  \n",
            " 14  begin_month    10000 non-null  float64\n",
            "dtypes: float64(1), int64(14)\n",
            "memory usage: 1.1 MB\n"
          ]
        }
      ],
      "source": [
        "test.info()"
      ]
    },
    {
      "cell_type": "markdown",
      "source": [
        "# 3. Modeling\n",
        "## 1) XGBoost"
      ],
      "metadata": {
        "id": "_Vp2BRTHi-qc"
      },
      "id": "_Vp2BRTHi-qc"
    },
    {
      "cell_type": "code",
      "source": [
        "import pandas as pd\n",
        "import numpy as np\n",
        "from tqdm import tqdm\n",
        "import matplotlib.pyplot as plt\n",
        "import seaborn as sns\n",
        "\n",
        "import os, glob, warnings\n",
        "from itertools import combinations\n",
        "from sklearn.preprocessing import OneHotEncoder, LabelEncoder, StandardScaler, PolynomialFeatures\n",
        "from sklearn.feature_selection import VarianceThreshold\n",
        "\n",
        "import warnings, random\n",
        "warnings.filterwarnings(action='ignore')\n",
        "\n",
        "from sklearn.metrics import accuracy_score, log_loss, f1_score\n",
        "from sklearn.model_selection import GridSearchCV, StratifiedKFold\n",
        "\n",
        "from xgboost import XGBClassifier\n",
        "\n",
        "sns.set(style = 'whitegrid')\n",
        "pd.set_option('display.max_columns', 50)\n",
        "np.random.seed(2018)"
      ],
      "metadata": {
        "id": "XJRBXi62lgHa"
      },
      "id": "XJRBXi62lgHa",
      "execution_count": 52,
      "outputs": []
    },
    {
      "cell_type": "code",
      "source": [
        "def train_model(model, trn, tst, cv = 5):\n",
        "    tst_preds = []\n",
        "    vld_preds = []\n",
        "    feats_importance = np.zeros(tst.shape[1])\n",
        "    for n, (trn_idx, vld_idx) in enumerate(StratifiedKFold(cv).split(trn.drop('credit', axis=1).values, trn['credit'].values)):\n",
        "        print(f\"{n+1}/{cv}번째 폴드 시작..........\")\n",
        "        X_trn = trn.loc[trn_idx, :].drop('credit', axis = 1)\n",
        "        X_vld = trn.loc[vld_idx, :].drop('credit', axis = 1)\n",
        "        y_trn = trn.loc[trn_idx, 'credit'].values\n",
        "        y_vld = trn.loc[vld_idx, 'credit'].values\n",
        "\n",
        "        model.fit(\n",
        "            X_trn, y_trn,\n",
        "            eval_set = [(X_trn, y_trn), (X_vld, y_vld)],\n",
        "            verbose = 500, early_stopping_rounds = 30\n",
        "        )\n",
        "        vld_preds.append(log_loss(y_vld, model.predict_proba(X_vld)))\n",
        "\n",
        "        tst_pred = model.predict_proba(tst)\n",
        "        tst_preds.append(tst_pred)\n",
        "        feats_importance += model.feature_importances_\n",
        "\n",
        "    feats_importance = feats_importance / cv\n",
        "    feats_importance = pd.Series(data = feats_importance, index = tst.columns)\n",
        "\n",
        "    print('5폴더 평균 mlogloss: ', np.mean(vld_preds))\n",
        "    return tst_preds, feats_importance"
      ],
      "metadata": {
        "id": "Zb1NUIJWm98i"
      },
      "id": "Zb1NUIJWm98i",
      "execution_count": 53,
      "outputs": []
    },
    {
      "cell_type": "code",
      "source": [
        "# 하이퍼파라미터 설정\n",
        "xgb_params = {\n",
        "    'booster' : 'gbtree',\n",
        "    'tree_method' : 'gpu_hist',\n",
        "    'predictor' : 'gpu_predictor',\n",
        "    'objective' : 'multi:softprob',\n",
        "    'eval_metric' : 'mlogloss',\n",
        "    'n_estimators' : 5000,\n",
        "    'max_depth' : 9,\n",
        "    'min_child_weight' : 5,\n",
        "    'learning_rate' : 0.012727,\n",
        "    'subsample' : 0.91020,\n",
        "    'colsample_bytree' : 0.77959,\n",
        "    'colsample_bylevel' : 0.64898,\n",
        "    'lambda' : 0.05,\n",
        "    'alpha' : 1,\n",
        "    'seed' : 2018\n",
        "}"
      ],
      "metadata": {
        "id": "gSBVuocOizyq"
      },
      "id": "gSBVuocOizyq",
      "execution_count": 54,
      "outputs": []
    },
    {
      "cell_type": "code",
      "source": [
        "tst_preds_xgb, feat_im_xgb = train_model(XGBClassifier(**xgb_params), train, test, cv = 20)"
      ],
      "metadata": {
        "colab": {
          "base_uri": "https://localhost:8080/"
        },
        "id": "C53OGoRantZS",
        "outputId": "ac03f6a8-7d99-4155-8bee-cba00693de71"
      },
      "id": "C53OGoRantZS",
      "execution_count": 55,
      "outputs": [
        {
          "output_type": "stream",
          "name": "stdout",
          "text": [
            "1/20번째 폴드 시작..........\n",
            "[0]\tvalidation_0-mlogloss:1.09251\tvalidation_1-mlogloss:1.09279\n",
            "[500]\tvalidation_0-mlogloss:0.65052\tvalidation_1-mlogloss:0.75927\n",
            "[1000]\tvalidation_0-mlogloss:0.55784\tvalidation_1-mlogloss:0.74236\n",
            "[1500]\tvalidation_0-mlogloss:0.48987\tvalidation_1-mlogloss:0.73463\n",
            "[1767]\tvalidation_0-mlogloss:0.45952\tvalidation_1-mlogloss:0.73242\n",
            "2/20번째 폴드 시작..........\n",
            "[0]\tvalidation_0-mlogloss:1.09257\tvalidation_1-mlogloss:1.09269\n",
            "[500]\tvalidation_0-mlogloss:0.65302\tvalidation_1-mlogloss:0.74511\n",
            "[1000]\tvalidation_0-mlogloss:0.55967\tvalidation_1-mlogloss:0.71900\n",
            "[1500]\tvalidation_0-mlogloss:0.49064\tvalidation_1-mlogloss:0.70592\n",
            "[1919]\tvalidation_0-mlogloss:0.44551\tvalidation_1-mlogloss:0.70187\n",
            "3/20번째 폴드 시작..........\n",
            "[0]\tvalidation_0-mlogloss:1.09255\tvalidation_1-mlogloss:1.09270\n",
            "[500]\tvalidation_0-mlogloss:0.65359\tvalidation_1-mlogloss:0.73624\n",
            "[1000]\tvalidation_0-mlogloss:0.56054\tvalidation_1-mlogloss:0.70717\n",
            "[1500]\tvalidation_0-mlogloss:0.49319\tvalidation_1-mlogloss:0.69366\n",
            "[2000]\tvalidation_0-mlogloss:0.43953\tvalidation_1-mlogloss:0.68901\n",
            "[2075]\tvalidation_0-mlogloss:0.43247\tvalidation_1-mlogloss:0.68877\n",
            "4/20번째 폴드 시작..........\n",
            "[0]\tvalidation_0-mlogloss:1.09249\tvalidation_1-mlogloss:1.09278\n",
            "[500]\tvalidation_0-mlogloss:0.65273\tvalidation_1-mlogloss:0.75305\n",
            "[1000]\tvalidation_0-mlogloss:0.55898\tvalidation_1-mlogloss:0.73154\n",
            "[1500]\tvalidation_0-mlogloss:0.49110\tvalidation_1-mlogloss:0.72324\n",
            "[1713]\tvalidation_0-mlogloss:0.46631\tvalidation_1-mlogloss:0.72164\n",
            "5/20번째 폴드 시작..........\n",
            "[0]\tvalidation_0-mlogloss:1.09261\tvalidation_1-mlogloss:1.09276\n",
            "[500]\tvalidation_0-mlogloss:0.65076\tvalidation_1-mlogloss:0.75026\n",
            "[1000]\tvalidation_0-mlogloss:0.55662\tvalidation_1-mlogloss:0.72385\n",
            "[1500]\tvalidation_0-mlogloss:0.49002\tvalidation_1-mlogloss:0.71247\n",
            "[1977]\tvalidation_0-mlogloss:0.43936\tvalidation_1-mlogloss:0.70927\n",
            "6/20번째 폴드 시작..........\n",
            "[0]\tvalidation_0-mlogloss:1.09256\tvalidation_1-mlogloss:1.09287\n",
            "[500]\tvalidation_0-mlogloss:0.65087\tvalidation_1-mlogloss:0.75873\n",
            "[1000]\tvalidation_0-mlogloss:0.55653\tvalidation_1-mlogloss:0.73799\n",
            "[1500]\tvalidation_0-mlogloss:0.48849\tvalidation_1-mlogloss:0.72835\n",
            "[1816]\tvalidation_0-mlogloss:0.45332\tvalidation_1-mlogloss:0.72614\n",
            "7/20번째 폴드 시작..........\n",
            "[0]\tvalidation_0-mlogloss:1.09261\tvalidation_1-mlogloss:1.09271\n",
            "[500]\tvalidation_0-mlogloss:0.65253\tvalidation_1-mlogloss:0.73117\n",
            "[1000]\tvalidation_0-mlogloss:0.55943\tvalidation_1-mlogloss:0.70163\n",
            "[1500]\tvalidation_0-mlogloss:0.49144\tvalidation_1-mlogloss:0.68868\n",
            "[1921]\tvalidation_0-mlogloss:0.44568\tvalidation_1-mlogloss:0.68448\n",
            "8/20번째 폴드 시작..........\n",
            "[0]\tvalidation_0-mlogloss:1.09258\tvalidation_1-mlogloss:1.09284\n",
            "[500]\tvalidation_0-mlogloss:0.65203\tvalidation_1-mlogloss:0.75398\n",
            "[1000]\tvalidation_0-mlogloss:0.55765\tvalidation_1-mlogloss:0.73076\n",
            "[1500]\tvalidation_0-mlogloss:0.49011\tvalidation_1-mlogloss:0.72217\n",
            "[1664]\tvalidation_0-mlogloss:0.47105\tvalidation_1-mlogloss:0.72075\n",
            "9/20번째 폴드 시작..........\n",
            "[0]\tvalidation_0-mlogloss:1.09250\tvalidation_1-mlogloss:1.09268\n",
            "[500]\tvalidation_0-mlogloss:0.65270\tvalidation_1-mlogloss:0.74395\n",
            "[1000]\tvalidation_0-mlogloss:0.55978\tvalidation_1-mlogloss:0.71569\n",
            "[1500]\tvalidation_0-mlogloss:0.49133\tvalidation_1-mlogloss:0.70235\n",
            "[2000]\tvalidation_0-mlogloss:0.43836\tvalidation_1-mlogloss:0.69599\n",
            "[2244]\tvalidation_0-mlogloss:0.41650\tvalidation_1-mlogloss:0.69477\n",
            "10/20번째 폴드 시작..........\n",
            "[0]\tvalidation_0-mlogloss:1.09251\tvalidation_1-mlogloss:1.09272\n",
            "[500]\tvalidation_0-mlogloss:0.65180\tvalidation_1-mlogloss:0.74857\n",
            "[1000]\tvalidation_0-mlogloss:0.55862\tvalidation_1-mlogloss:0.72048\n",
            "[1500]\tvalidation_0-mlogloss:0.49103\tvalidation_1-mlogloss:0.70977\n",
            "[1846]\tvalidation_0-mlogloss:0.45288\tvalidation_1-mlogloss:0.70754\n",
            "11/20번째 폴드 시작..........\n",
            "[0]\tvalidation_0-mlogloss:1.09250\tvalidation_1-mlogloss:1.09268\n",
            "[500]\tvalidation_0-mlogloss:0.65109\tvalidation_1-mlogloss:0.74324\n",
            "[1000]\tvalidation_0-mlogloss:0.55887\tvalidation_1-mlogloss:0.71897\n",
            "[1500]\tvalidation_0-mlogloss:0.49028\tvalidation_1-mlogloss:0.70891\n",
            "[1645]\tvalidation_0-mlogloss:0.47379\tvalidation_1-mlogloss:0.70759\n",
            "12/20번째 폴드 시작..........\n",
            "[0]\tvalidation_0-mlogloss:1.09249\tvalidation_1-mlogloss:1.09279\n",
            "[500]\tvalidation_0-mlogloss:0.64897\tvalidation_1-mlogloss:0.75407\n",
            "[1000]\tvalidation_0-mlogloss:0.55670\tvalidation_1-mlogloss:0.73169\n",
            "[1500]\tvalidation_0-mlogloss:0.48823\tvalidation_1-mlogloss:0.72315\n",
            "[1639]\tvalidation_0-mlogloss:0.47182\tvalidation_1-mlogloss:0.72230\n",
            "13/20번째 폴드 시작..........\n",
            "[0]\tvalidation_0-mlogloss:1.09251\tvalidation_1-mlogloss:1.09268\n",
            "[500]\tvalidation_0-mlogloss:0.65401\tvalidation_1-mlogloss:0.73814\n",
            "[1000]\tvalidation_0-mlogloss:0.55987\tvalidation_1-mlogloss:0.70895\n",
            "[1500]\tvalidation_0-mlogloss:0.49158\tvalidation_1-mlogloss:0.69747\n",
            "[1949]\tvalidation_0-mlogloss:0.44265\tvalidation_1-mlogloss:0.69312\n",
            "14/20번째 폴드 시작..........\n",
            "[0]\tvalidation_0-mlogloss:1.09250\tvalidation_1-mlogloss:1.09287\n",
            "[500]\tvalidation_0-mlogloss:0.65176\tvalidation_1-mlogloss:0.76348\n",
            "[1000]\tvalidation_0-mlogloss:0.55878\tvalidation_1-mlogloss:0.73934\n",
            "[1500]\tvalidation_0-mlogloss:0.49082\tvalidation_1-mlogloss:0.73031\n",
            "[1769]\tvalidation_0-mlogloss:0.45996\tvalidation_1-mlogloss:0.72858\n",
            "15/20번째 폴드 시작..........\n",
            "[0]\tvalidation_0-mlogloss:1.09255\tvalidation_1-mlogloss:1.09281\n",
            "[500]\tvalidation_0-mlogloss:0.65203\tvalidation_1-mlogloss:0.75470\n",
            "[1000]\tvalidation_0-mlogloss:0.55986\tvalidation_1-mlogloss:0.73628\n",
            "[1497]\tvalidation_0-mlogloss:0.49097\tvalidation_1-mlogloss:0.72985\n",
            "16/20번째 폴드 시작..........\n",
            "[0]\tvalidation_0-mlogloss:1.09255\tvalidation_1-mlogloss:1.09271\n",
            "[500]\tvalidation_0-mlogloss:0.65134\tvalidation_1-mlogloss:0.74786\n",
            "[1000]\tvalidation_0-mlogloss:0.55901\tvalidation_1-mlogloss:0.72591\n",
            "[1406]\tvalidation_0-mlogloss:0.50242\tvalidation_1-mlogloss:0.71977\n",
            "17/20번째 폴드 시작..........\n",
            "[0]\tvalidation_0-mlogloss:1.09253\tvalidation_1-mlogloss:1.09286\n",
            "[500]\tvalidation_0-mlogloss:0.64999\tvalidation_1-mlogloss:0.74699\n",
            "[1000]\tvalidation_0-mlogloss:0.55802\tvalidation_1-mlogloss:0.72722\n",
            "[1116]\tvalidation_0-mlogloss:0.54034\tvalidation_1-mlogloss:0.72526\n",
            "18/20번째 폴드 시작..........\n",
            "[0]\tvalidation_0-mlogloss:1.09256\tvalidation_1-mlogloss:1.09269\n",
            "[500]\tvalidation_0-mlogloss:0.65389\tvalidation_1-mlogloss:0.74664\n",
            "[1000]\tvalidation_0-mlogloss:0.55961\tvalidation_1-mlogloss:0.72493\n",
            "[1352]\tvalidation_0-mlogloss:0.50941\tvalidation_1-mlogloss:0.71944\n",
            "19/20번째 폴드 시작..........\n",
            "[0]\tvalidation_0-mlogloss:1.09250\tvalidation_1-mlogloss:1.09277\n",
            "[500]\tvalidation_0-mlogloss:0.65267\tvalidation_1-mlogloss:0.75797\n",
            "[1000]\tvalidation_0-mlogloss:0.56000\tvalidation_1-mlogloss:0.73275\n",
            "[1500]\tvalidation_0-mlogloss:0.49189\tvalidation_1-mlogloss:0.72348\n",
            "[1777]\tvalidation_0-mlogloss:0.46048\tvalidation_1-mlogloss:0.72181\n",
            "20/20번째 폴드 시작..........\n",
            "[0]\tvalidation_0-mlogloss:1.09248\tvalidation_1-mlogloss:1.09289\n",
            "[500]\tvalidation_0-mlogloss:0.64953\tvalidation_1-mlogloss:0.75352\n",
            "[1000]\tvalidation_0-mlogloss:0.55902\tvalidation_1-mlogloss:0.73156\n",
            "[1500]\tvalidation_0-mlogloss:0.49039\tvalidation_1-mlogloss:0.72055\n",
            "[1882]\tvalidation_0-mlogloss:0.44864\tvalidation_1-mlogloss:0.71753\n",
            "5폴더 평균 mlogloss:  0.7135639156428125\n"
          ]
        }
      ]
    },
    {
      "cell_type": "markdown",
      "source": [
        "=> XGBoost_logloss: 0.7135639156428125"
      ],
      "metadata": {
        "id": "cdLPmATGxFNq"
      },
      "id": "cdLPmATGxFNq"
    }
  ],
  "metadata": {
    "kernelspec": {
      "display_name": "Python 3",
      "name": "python3"
    },
    "language_info": {
      "codemirror_mode": {
        "name": "ipython",
        "version": 3
      },
      "file_extension": ".py",
      "mimetype": "text/x-python",
      "name": "python",
      "nbconvert_exporter": "python",
      "pygments_lexer": "ipython3",
      "version": "3.9.13"
    },
    "colab": {
      "provenance": [],
      "gpuType": "T4",
      "include_colab_link": true
    },
    "accelerator": "GPU"
  },
  "nbformat": 4,
  "nbformat_minor": 5
}